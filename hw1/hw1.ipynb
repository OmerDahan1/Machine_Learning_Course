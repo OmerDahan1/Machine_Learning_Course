{
 "cells": [
  {
   "cell_type": "markdown",
   "metadata": {
    "nbgrader": {
     "grade": false,
     "grade_id": "cell-35def0d0f4b47a0a",
     "locked": true,
     "schema_version": 1,
     "solution": false
    }
   },
   "source": [
    "# Exercise 1: Linear Regression\n",
    "\n",
    "## Do not start the exercise until you fully understand the submission guidelines.\n",
    "\n",
    "\n",
    "* The homework assignments are executed automatically. \n",
    "* Failure to comply with the following instructions will result in a significant penalty. \n",
    "* Appeals regarding your failure to read these instructions will be denied. \n",
    "* Kindly reminder: the homework assignments contribute 50% of the final grade.\n",
    "\n",
    "\n",
    "## Read the following instructions carefully:\n",
    "\n",
    "1. This Jupyter notebook contains all the step-by-step instructions needed for this exercise.\n",
    "1. Write **efficient**, **vectorized** code whenever possible. Some calculations in this exercise may take several minutes when implemented efficiently, and might take much longer otherwise. Unnecessary loops will result in point deductions.\n",
    "1. You are responsible for the correctness of your code and should add as many tests as you see fit to this jupyter notebook. Tests will not be graded nor checked.\n",
    "1. Complete the required functions in `hw1.py` script only. This exercise is graded automatically, and only the `hw1.py` script is tested.\n",
    "2. You are allowed to use functions and methods from the [Python Standard Library](https://docs.python.org/3/library/), numpy and pandas only. "
   ]
  },
  {
   "cell_type": "code",
   "execution_count": 1,
   "metadata": {
    "nbgrader": {
     "grade": false,
     "grade_id": "cell-5ed0076cec86f623",
     "locked": true,
     "schema_version": 1,
     "solution": false
    }
   },
   "outputs": [],
   "source": [
    "import numpy as np # used for scientific computing\n",
    "import pandas as pd # used for data analysis and manipulation\n",
    "import matplotlib.pyplot as plt # used for visualization and plotting\n",
    "np.random.seed(42) \n",
    "\n",
    "# make the notebook automatically reload external python modules\n",
    "%load_ext autoreload\n",
    "%autoreload 2"
   ]
  },
  {
   "cell_type": "markdown",
   "metadata": {
    "nbgrader": {
     "grade": false,
     "grade_id": "cell-916f46de8cde2ca7",
     "locked": true,
     "schema_version": 1,
     "solution": false
    }
   },
   "source": [
    "## Part 1: Data Preprocessing (10 Points)\n",
    "\n",
    "For the following exercise, we will use a dataset containing housing prices in King County, USA. The dataset contains 5,000 observations with 18 features and a single target value - the house price. \n",
    "\n",
    "First, we will read and explore the data using pandas and the `.read_csv` method. Pandas is an open source library providing high-performance, easy-to-use data structures and data analysis tools for the Python programming language."
   ]
  },
  {
   "cell_type": "code",
   "execution_count": 2,
   "metadata": {
    "nbgrader": {
     "grade": false,
     "grade_id": "cell-9ef8b2769c2c1949",
     "locked": true,
     "schema_version": 1,
     "solution": false
    }
   },
   "outputs": [],
   "source": [
    "# Read comma separated data\n",
    "df = pd.read_csv('data.csv')\n",
    "# df stands for dataframe, which is the default format for datasets in pandas"
   ]
  },
  {
   "cell_type": "markdown",
   "metadata": {
    "nbgrader": {
     "grade": false,
     "grade_id": "cell-6966afc155aa6616",
     "locked": true,
     "schema_version": 1,
     "solution": false
    }
   },
   "source": [
    "### Data Exploration\n",
    "A good practice in any data-oriented project is to first try and understand the data. Fortunately, pandas is built for that purpose. Start by looking at the top of the dataset using the `df.head()` command. This will be the first indication that you read your data properly, and that the headers are correct. Next, you can use `df.describe()` to show statistics on the data and check for trends and irregularities."
   ]
  },
  {
   "cell_type": "code",
   "execution_count": 3,
   "metadata": {},
   "outputs": [
    {
     "data": {
      "text/html": [
       "<div>\n",
       "<style scoped>\n",
       "    .dataframe tbody tr th:only-of-type {\n",
       "        vertical-align: middle;\n",
       "    }\n",
       "\n",
       "    .dataframe tbody tr th {\n",
       "        vertical-align: top;\n",
       "    }\n",
       "\n",
       "    .dataframe thead th {\n",
       "        text-align: right;\n",
       "    }\n",
       "</style>\n",
       "<table border=\"1\" class=\"dataframe\">\n",
       "  <thead>\n",
       "    <tr style=\"text-align: right;\">\n",
       "      <th></th>\n",
       "      <th>id</th>\n",
       "      <th>date</th>\n",
       "      <th>price</th>\n",
       "      <th>bedrooms</th>\n",
       "      <th>bathrooms</th>\n",
       "      <th>sqft_living</th>\n",
       "      <th>sqft_lot</th>\n",
       "      <th>floors</th>\n",
       "      <th>waterfront</th>\n",
       "      <th>view</th>\n",
       "      <th>condition</th>\n",
       "      <th>grade</th>\n",
       "      <th>sqft_above</th>\n",
       "      <th>yr_built</th>\n",
       "      <th>yr_renovated</th>\n",
       "      <th>zipcode</th>\n",
       "      <th>lat</th>\n",
       "      <th>long</th>\n",
       "      <th>sqft_living15</th>\n",
       "      <th>sqft_lot15</th>\n",
       "    </tr>\n",
       "  </thead>\n",
       "  <tbody>\n",
       "    <tr>\n",
       "      <th>0</th>\n",
       "      <td>7129300520</td>\n",
       "      <td>20141013T000000</td>\n",
       "      <td>221900.0</td>\n",
       "      <td>3</td>\n",
       "      <td>1.00</td>\n",
       "      <td>1180</td>\n",
       "      <td>5650</td>\n",
       "      <td>1.0</td>\n",
       "      <td>0</td>\n",
       "      <td>0</td>\n",
       "      <td>3</td>\n",
       "      <td>7</td>\n",
       "      <td>1180</td>\n",
       "      <td>1955</td>\n",
       "      <td>0</td>\n",
       "      <td>98178</td>\n",
       "      <td>47.5112</td>\n",
       "      <td>-122.257</td>\n",
       "      <td>1340</td>\n",
       "      <td>5650</td>\n",
       "    </tr>\n",
       "    <tr>\n",
       "      <th>1</th>\n",
       "      <td>6414100192</td>\n",
       "      <td>20141209T000000</td>\n",
       "      <td>538000.0</td>\n",
       "      <td>3</td>\n",
       "      <td>2.25</td>\n",
       "      <td>2570</td>\n",
       "      <td>7242</td>\n",
       "      <td>2.0</td>\n",
       "      <td>0</td>\n",
       "      <td>0</td>\n",
       "      <td>3</td>\n",
       "      <td>7</td>\n",
       "      <td>2170</td>\n",
       "      <td>1951</td>\n",
       "      <td>1991</td>\n",
       "      <td>98125</td>\n",
       "      <td>47.7210</td>\n",
       "      <td>-122.319</td>\n",
       "      <td>1690</td>\n",
       "      <td>7639</td>\n",
       "    </tr>\n",
       "    <tr>\n",
       "      <th>2</th>\n",
       "      <td>5631500400</td>\n",
       "      <td>20150225T000000</td>\n",
       "      <td>180000.0</td>\n",
       "      <td>2</td>\n",
       "      <td>1.00</td>\n",
       "      <td>770</td>\n",
       "      <td>10000</td>\n",
       "      <td>1.0</td>\n",
       "      <td>0</td>\n",
       "      <td>0</td>\n",
       "      <td>3</td>\n",
       "      <td>6</td>\n",
       "      <td>770</td>\n",
       "      <td>1933</td>\n",
       "      <td>0</td>\n",
       "      <td>98028</td>\n",
       "      <td>47.7379</td>\n",
       "      <td>-122.233</td>\n",
       "      <td>2720</td>\n",
       "      <td>8062</td>\n",
       "    </tr>\n",
       "    <tr>\n",
       "      <th>3</th>\n",
       "      <td>2487200875</td>\n",
       "      <td>20141209T000000</td>\n",
       "      <td>604000.0</td>\n",
       "      <td>4</td>\n",
       "      <td>3.00</td>\n",
       "      <td>1960</td>\n",
       "      <td>5000</td>\n",
       "      <td>1.0</td>\n",
       "      <td>0</td>\n",
       "      <td>0</td>\n",
       "      <td>5</td>\n",
       "      <td>7</td>\n",
       "      <td>1050</td>\n",
       "      <td>1965</td>\n",
       "      <td>0</td>\n",
       "      <td>98136</td>\n",
       "      <td>47.5208</td>\n",
       "      <td>-122.393</td>\n",
       "      <td>1360</td>\n",
       "      <td>5000</td>\n",
       "    </tr>\n",
       "    <tr>\n",
       "      <th>4</th>\n",
       "      <td>1954400510</td>\n",
       "      <td>20150218T000000</td>\n",
       "      <td>510000.0</td>\n",
       "      <td>3</td>\n",
       "      <td>2.00</td>\n",
       "      <td>1680</td>\n",
       "      <td>8080</td>\n",
       "      <td>1.0</td>\n",
       "      <td>0</td>\n",
       "      <td>0</td>\n",
       "      <td>3</td>\n",
       "      <td>8</td>\n",
       "      <td>1680</td>\n",
       "      <td>1987</td>\n",
       "      <td>0</td>\n",
       "      <td>98074</td>\n",
       "      <td>47.6168</td>\n",
       "      <td>-122.045</td>\n",
       "      <td>1800</td>\n",
       "      <td>7503</td>\n",
       "    </tr>\n",
       "  </tbody>\n",
       "</table>\n",
       "</div>"
      ],
      "text/plain": [
       "           id             date     price  bedrooms  bathrooms  sqft_living  \\\n",
       "0  7129300520  20141013T000000  221900.0         3       1.00         1180   \n",
       "1  6414100192  20141209T000000  538000.0         3       2.25         2570   \n",
       "2  5631500400  20150225T000000  180000.0         2       1.00          770   \n",
       "3  2487200875  20141209T000000  604000.0         4       3.00         1960   \n",
       "4  1954400510  20150218T000000  510000.0         3       2.00         1680   \n",
       "\n",
       "   sqft_lot  floors  waterfront  view  condition  grade  sqft_above  yr_built  \\\n",
       "0      5650     1.0           0     0          3      7        1180      1955   \n",
       "1      7242     2.0           0     0          3      7        2170      1951   \n",
       "2     10000     1.0           0     0          3      6         770      1933   \n",
       "3      5000     1.0           0     0          5      7        1050      1965   \n",
       "4      8080     1.0           0     0          3      8        1680      1987   \n",
       "\n",
       "   yr_renovated  zipcode      lat     long  sqft_living15  sqft_lot15  \n",
       "0             0    98178  47.5112 -122.257           1340        5650  \n",
       "1          1991    98125  47.7210 -122.319           1690        7639  \n",
       "2             0    98028  47.7379 -122.233           2720        8062  \n",
       "3             0    98136  47.5208 -122.393           1360        5000  \n",
       "4             0    98074  47.6168 -122.045           1800        7503  "
      ]
     },
     "execution_count": 3,
     "metadata": {},
     "output_type": "execute_result"
    }
   ],
   "source": [
    "df.head(5)"
   ]
  },
  {
   "cell_type": "code",
   "execution_count": 4,
   "metadata": {
    "nbgrader": {
     "grade": true,
     "grade_id": "cell-5bd0d6844b64ea1a",
     "locked": false,
     "points": 1,
     "schema_version": 1,
     "solution": true
    }
   },
   "outputs": [
    {
     "data": {
      "text/html": [
       "<div>\n",
       "<style scoped>\n",
       "    .dataframe tbody tr th:only-of-type {\n",
       "        vertical-align: middle;\n",
       "    }\n",
       "\n",
       "    .dataframe tbody tr th {\n",
       "        vertical-align: top;\n",
       "    }\n",
       "\n",
       "    .dataframe thead th {\n",
       "        text-align: right;\n",
       "    }\n",
       "</style>\n",
       "<table border=\"1\" class=\"dataframe\">\n",
       "  <thead>\n",
       "    <tr style=\"text-align: right;\">\n",
       "      <th></th>\n",
       "      <th>id</th>\n",
       "      <th>price</th>\n",
       "      <th>bedrooms</th>\n",
       "      <th>bathrooms</th>\n",
       "      <th>sqft_living</th>\n",
       "      <th>sqft_lot</th>\n",
       "      <th>floors</th>\n",
       "      <th>waterfront</th>\n",
       "      <th>view</th>\n",
       "      <th>condition</th>\n",
       "      <th>grade</th>\n",
       "      <th>sqft_above</th>\n",
       "      <th>yr_built</th>\n",
       "      <th>yr_renovated</th>\n",
       "      <th>zipcode</th>\n",
       "      <th>lat</th>\n",
       "      <th>long</th>\n",
       "      <th>sqft_living15</th>\n",
       "      <th>sqft_lot15</th>\n",
       "    </tr>\n",
       "  </thead>\n",
       "  <tbody>\n",
       "    <tr>\n",
       "      <th>count</th>\n",
       "      <td>5.000000e+03</td>\n",
       "      <td>5.000000e+03</td>\n",
       "      <td>5000.0000</td>\n",
       "      <td>5000.000000</td>\n",
       "      <td>5000.000000</td>\n",
       "      <td>5.000000e+03</td>\n",
       "      <td>5000.000000</td>\n",
       "      <td>5000.000000</td>\n",
       "      <td>5000.000000</td>\n",
       "      <td>5000.000000</td>\n",
       "      <td>5000.000000</td>\n",
       "      <td>5000.000000</td>\n",
       "      <td>5000.000000</td>\n",
       "      <td>5000.000000</td>\n",
       "      <td>5000.000000</td>\n",
       "      <td>5000.000000</td>\n",
       "      <td>5000.000000</td>\n",
       "      <td>5000.00000</td>\n",
       "      <td>5000.000000</td>\n",
       "    </tr>\n",
       "    <tr>\n",
       "      <th>mean</th>\n",
       "      <td>4.630823e+09</td>\n",
       "      <td>5.394699e+05</td>\n",
       "      <td>3.3714</td>\n",
       "      <td>2.062150</td>\n",
       "      <td>2061.036800</td>\n",
       "      <td>1.615893e+04</td>\n",
       "      <td>1.432600</td>\n",
       "      <td>0.009400</td>\n",
       "      <td>0.243000</td>\n",
       "      <td>3.455000</td>\n",
       "      <td>7.595200</td>\n",
       "      <td>1753.151000</td>\n",
       "      <td>1966.660800</td>\n",
       "      <td>95.052800</td>\n",
       "      <td>98078.812600</td>\n",
       "      <td>47.559312</td>\n",
       "      <td>-122.215864</td>\n",
       "      <td>1976.84520</td>\n",
       "      <td>13451.164600</td>\n",
       "    </tr>\n",
       "    <tr>\n",
       "      <th>std</th>\n",
       "      <td>2.870890e+09</td>\n",
       "      <td>3.873115e+05</td>\n",
       "      <td>0.9104</td>\n",
       "      <td>0.773592</td>\n",
       "      <td>923.727509</td>\n",
       "      <td>4.600220e+04</td>\n",
       "      <td>0.510793</td>\n",
       "      <td>0.096506</td>\n",
       "      <td>0.774643</td>\n",
       "      <td>0.677692</td>\n",
       "      <td>1.166537</td>\n",
       "      <td>818.390844</td>\n",
       "      <td>28.286855</td>\n",
       "      <td>425.234932</td>\n",
       "      <td>54.126332</td>\n",
       "      <td>0.139521</td>\n",
       "      <td>0.141807</td>\n",
       "      <td>674.73601</td>\n",
       "      <td>26514.749009</td>\n",
       "    </tr>\n",
       "    <tr>\n",
       "      <th>min</th>\n",
       "      <td>1.000102e+06</td>\n",
       "      <td>7.500000e+04</td>\n",
       "      <td>0.0000</td>\n",
       "      <td>0.000000</td>\n",
       "      <td>380.000000</td>\n",
       "      <td>6.090000e+02</td>\n",
       "      <td>1.000000</td>\n",
       "      <td>0.000000</td>\n",
       "      <td>0.000000</td>\n",
       "      <td>1.000000</td>\n",
       "      <td>3.000000</td>\n",
       "      <td>380.000000</td>\n",
       "      <td>1900.000000</td>\n",
       "      <td>0.000000</td>\n",
       "      <td>98001.000000</td>\n",
       "      <td>47.155900</td>\n",
       "      <td>-122.514000</td>\n",
       "      <td>620.00000</td>\n",
       "      <td>660.000000</td>\n",
       "    </tr>\n",
       "    <tr>\n",
       "      <th>25%</th>\n",
       "      <td>2.154075e+09</td>\n",
       "      <td>3.179062e+05</td>\n",
       "      <td>3.0000</td>\n",
       "      <td>1.500000</td>\n",
       "      <td>1410.000000</td>\n",
       "      <td>5.400000e+03</td>\n",
       "      <td>1.000000</td>\n",
       "      <td>0.000000</td>\n",
       "      <td>0.000000</td>\n",
       "      <td>3.000000</td>\n",
       "      <td>7.000000</td>\n",
       "      <td>1190.000000</td>\n",
       "      <td>1949.000000</td>\n",
       "      <td>0.000000</td>\n",
       "      <td>98033.000000</td>\n",
       "      <td>47.463675</td>\n",
       "      <td>-122.329000</td>\n",
       "      <td>1490.00000</td>\n",
       "      <td>5391.500000</td>\n",
       "    </tr>\n",
       "    <tr>\n",
       "      <th>50%</th>\n",
       "      <td>4.022900e+09</td>\n",
       "      <td>4.490000e+05</td>\n",
       "      <td>3.0000</td>\n",
       "      <td>2.000000</td>\n",
       "      <td>1890.000000</td>\n",
       "      <td>7.875000e+03</td>\n",
       "      <td>1.000000</td>\n",
       "      <td>0.000000</td>\n",
       "      <td>0.000000</td>\n",
       "      <td>3.000000</td>\n",
       "      <td>7.000000</td>\n",
       "      <td>1530.000000</td>\n",
       "      <td>1968.000000</td>\n",
       "      <td>0.000000</td>\n",
       "      <td>98070.000000</td>\n",
       "      <td>47.572850</td>\n",
       "      <td>-122.235000</td>\n",
       "      <td>1820.00000</td>\n",
       "      <td>7800.000000</td>\n",
       "    </tr>\n",
       "    <tr>\n",
       "      <th>75%</th>\n",
       "      <td>7.345078e+09</td>\n",
       "      <td>6.500000e+05</td>\n",
       "      <td>4.0000</td>\n",
       "      <td>2.500000</td>\n",
       "      <td>2500.000000</td>\n",
       "      <td>1.123400e+04</td>\n",
       "      <td>2.000000</td>\n",
       "      <td>0.000000</td>\n",
       "      <td>0.000000</td>\n",
       "      <td>4.000000</td>\n",
       "      <td>8.000000</td>\n",
       "      <td>2130.000000</td>\n",
       "      <td>1990.000000</td>\n",
       "      <td>0.000000</td>\n",
       "      <td>98118.000000</td>\n",
       "      <td>47.679200</td>\n",
       "      <td>-122.129000</td>\n",
       "      <td>2340.00000</td>\n",
       "      <td>10469.250000</td>\n",
       "    </tr>\n",
       "    <tr>\n",
       "      <th>max</th>\n",
       "      <td>9.842300e+09</td>\n",
       "      <td>7.060000e+06</td>\n",
       "      <td>9.0000</td>\n",
       "      <td>6.750000</td>\n",
       "      <td>10040.000000</td>\n",
       "      <td>1.651359e+06</td>\n",
       "      <td>3.500000</td>\n",
       "      <td>1.000000</td>\n",
       "      <td>4.000000</td>\n",
       "      <td>5.000000</td>\n",
       "      <td>13.000000</td>\n",
       "      <td>7680.000000</td>\n",
       "      <td>2015.000000</td>\n",
       "      <td>2015.000000</td>\n",
       "      <td>98199.000000</td>\n",
       "      <td>47.777600</td>\n",
       "      <td>-121.315000</td>\n",
       "      <td>5790.00000</td>\n",
       "      <td>434728.000000</td>\n",
       "    </tr>\n",
       "  </tbody>\n",
       "</table>\n",
       "</div>"
      ],
      "text/plain": [
       "                 id         price   bedrooms    bathrooms   sqft_living  \\\n",
       "count  5.000000e+03  5.000000e+03  5000.0000  5000.000000   5000.000000   \n",
       "mean   4.630823e+09  5.394699e+05     3.3714     2.062150   2061.036800   \n",
       "std    2.870890e+09  3.873115e+05     0.9104     0.773592    923.727509   \n",
       "min    1.000102e+06  7.500000e+04     0.0000     0.000000    380.000000   \n",
       "25%    2.154075e+09  3.179062e+05     3.0000     1.500000   1410.000000   \n",
       "50%    4.022900e+09  4.490000e+05     3.0000     2.000000   1890.000000   \n",
       "75%    7.345078e+09  6.500000e+05     4.0000     2.500000   2500.000000   \n",
       "max    9.842300e+09  7.060000e+06     9.0000     6.750000  10040.000000   \n",
       "\n",
       "           sqft_lot       floors   waterfront         view    condition  \\\n",
       "count  5.000000e+03  5000.000000  5000.000000  5000.000000  5000.000000   \n",
       "mean   1.615893e+04     1.432600     0.009400     0.243000     3.455000   \n",
       "std    4.600220e+04     0.510793     0.096506     0.774643     0.677692   \n",
       "min    6.090000e+02     1.000000     0.000000     0.000000     1.000000   \n",
       "25%    5.400000e+03     1.000000     0.000000     0.000000     3.000000   \n",
       "50%    7.875000e+03     1.000000     0.000000     0.000000     3.000000   \n",
       "75%    1.123400e+04     2.000000     0.000000     0.000000     4.000000   \n",
       "max    1.651359e+06     3.500000     1.000000     4.000000     5.000000   \n",
       "\n",
       "             grade   sqft_above     yr_built  yr_renovated       zipcode  \\\n",
       "count  5000.000000  5000.000000  5000.000000   5000.000000   5000.000000   \n",
       "mean      7.595200  1753.151000  1966.660800     95.052800  98078.812600   \n",
       "std       1.166537   818.390844    28.286855    425.234932     54.126332   \n",
       "min       3.000000   380.000000  1900.000000      0.000000  98001.000000   \n",
       "25%       7.000000  1190.000000  1949.000000      0.000000  98033.000000   \n",
       "50%       7.000000  1530.000000  1968.000000      0.000000  98070.000000   \n",
       "75%       8.000000  2130.000000  1990.000000      0.000000  98118.000000   \n",
       "max      13.000000  7680.000000  2015.000000   2015.000000  98199.000000   \n",
       "\n",
       "               lat         long  sqft_living15     sqft_lot15  \n",
       "count  5000.000000  5000.000000     5000.00000    5000.000000  \n",
       "mean     47.559312  -122.215864     1976.84520   13451.164600  \n",
       "std       0.139521     0.141807      674.73601   26514.749009  \n",
       "min      47.155900  -122.514000      620.00000     660.000000  \n",
       "25%      47.463675  -122.329000     1490.00000    5391.500000  \n",
       "50%      47.572850  -122.235000     1820.00000    7800.000000  \n",
       "75%      47.679200  -122.129000     2340.00000   10469.250000  \n",
       "max      47.777600  -121.315000     5790.00000  434728.000000  "
      ]
     },
     "execution_count": 4,
     "metadata": {},
     "output_type": "execute_result"
    }
   ],
   "source": [
    "df.describe()"
   ]
  },
  {
   "cell_type": "markdown",
   "metadata": {
    "nbgrader": {
     "grade": false,
     "grade_id": "cell-9b9bd1b387905904",
     "locked": true,
     "schema_version": 1,
     "solution": false
    }
   },
   "source": [
    "We will start with one variable linear regression by extracting the target column and the `sqft_living` variable from the dataset. We use pandas and select both columns as separate variables and transform them into a numpy array."
   ]
  },
  {
   "cell_type": "code",
   "execution_count": 5,
   "metadata": {
    "nbgrader": {
     "grade": true,
     "grade_id": "cell-c7cd243e8b5fe5aa",
     "locked": false,
     "points": 1,
     "schema_version": 1,
     "solution": true
    }
   },
   "outputs": [],
   "source": [
    "X = df['sqft_living'].values\n",
    "y = df['price'].values"
   ]
  },
  {
   "cell_type": "markdown",
   "metadata": {
    "nbgrader": {
     "grade": false,
     "grade_id": "cell-508e7e1a13f9bbe4",
     "locked": true,
     "schema_version": 1,
     "solution": false
    }
   },
   "source": [
    "## Preprocessing\n",
    "\n",
    "As the number of features grows, calculating gradients gets computationally expensive. We can speed this up by normalizing the input data to ensure all values are within the same range. This is especially important for datasets with high standard deviations or differences in the ranges of the attributes. Use [mean normalization](https://en.wikipedia.org/wiki/Feature_scaling) for the fearures (`X`) and the true labels (`y`). \n",
    "\n",
    "Your implementation should not contain loops.\n",
    "\n",
    "---\n",
    "Open `hw1.py` and complete the function `preprocess`. (5 points)"
   ]
  },
  {
   "cell_type": "code",
   "execution_count": 6,
   "metadata": {},
   "outputs": [
    {
     "data": {
      "text/plain": [
       "((5000,), (5000,))"
      ]
     },
     "execution_count": 6,
     "metadata": {},
     "output_type": "execute_result"
    }
   ],
   "source": [
    "from hw1 import preprocess\n",
    "\n",
    "X, y = preprocess(X, y)\n",
    "X.shape, y.shape"
   ]
  },
  {
   "cell_type": "markdown",
   "metadata": {},
   "source": [
    "We will split the data into two datasets: \n",
    "1. The training dataset will contain 80% of the data and will always be used for model training.\n",
    "2. The validation dataset will contain the remaining 20% of the data and will be used for model evaluation. For example, we will pick the best alpha and the best features using the validation dataset, while still training the model using the training dataset."
   ]
  },
  {
   "cell_type": "code",
   "execution_count": 7,
   "metadata": {},
   "outputs": [],
   "source": [
    "# training and validation split\n",
    "np.random.seed(42)\n",
    "indices = np.random.permutation(X.shape[0])\n",
    "idx_train, idx_val = indices[:int(0.8*X.shape[0])], indices[int(0.8*X.shape[0]):]\n",
    "X_train, X_val = X[idx_train], X[idx_val]\n",
    "y_train, y_val = y[idx_train], y[idx_val]"
   ]
  },
  {
   "cell_type": "markdown",
   "metadata": {
    "nbgrader": {
     "grade": false,
     "grade_id": "cell-0c168d036748663e",
     "locked": true,
     "schema_version": 1,
     "solution": false
    }
   },
   "source": [
    "## Data Visualization\n",
    "Another useful tool is data visualization. Since this problem has only two parameters, it is possible to create a two-dimensional scatter plot to visualize the data. Note that many real-world datasets are highly dimensional and cannot be visualized naively. We will be using `matplotlib` for all data visualization purposes since it offers a wide range of visualization tools and is easy to use."
   ]
  },
  {
   "cell_type": "code",
   "execution_count": 8,
   "metadata": {
    "nbgrader": {
     "grade": false,
     "grade_id": "cell-cbad8871e083093f",
     "locked": true,
     "schema_version": 1,
     "solution": false
    }
   },
   "outputs": [
    {
     "data": {
      "image/png": "[encoded data removed]",
      "text/plain": [
       "<Figure size 640x480 with 1 Axes>"
      ]
     },
     "metadata": {},
     "output_type": "display_data"
    }
   ],
   "source": [
    "plt.plot(X_train, y_train, 'ro', ms=1, mec='k') # the parameters control the size, shape and color of the scatter plot\n",
    "plt.ylabel('Price in USD')\n",
    "plt.xlabel('sq.ft')\n",
    "plt.show()"
   ]
  },
  {
   "cell_type": "code",
   "execution_count": 9,
   "metadata": {},
   "outputs": [
    {
     "data": {
      "text/plain": [
       "array([-0.07464149, -0.02081126,  0.15931296, ..., -0.08188787,\n",
       "       -0.03116323, -0.02598725])"
      ]
     },
     "execution_count": 9,
     "metadata": {},
     "output_type": "execute_result"
    }
   ],
   "source": [
    "X_train"
   ]
  },
  {
   "cell_type": "code",
   "execution_count": 10,
   "metadata": {},
   "outputs": [
    {
     "data": {
      "text/plain": [
       "array([-0.07464149, -0.02081126,  0.15931296, ..., -0.08188787,\n",
       "       -0.03116323, -0.02598725])"
      ]
     },
     "execution_count": 10,
     "metadata": {},
     "output_type": "execute_result"
    }
   ],
   "source": [
    "X_train.T"
   ]
  },
  {
   "cell_type": "markdown",
   "metadata": {
    "nbgrader": {
     "grade": false,
     "grade_id": "cell-c50f0a0e569142ed",
     "locked": true,
     "schema_version": 1,
     "solution": false
    }
   },
   "source": [
    "## Bias Trick\n",
    "\n",
    "Make sure that `X` takes into consideration the bias $\\theta_0$ in the linear model. Hint, recall that the predications of our linear model are of the form:\n",
    "\n",
    "$$\n",
    "\\hat{y} = h_\\theta(x) = \\theta^T x = \\theta_0 + \\theta_1 x_1\n",
    "$$\n",
    "\n",
    "Add columns of ones as the zeroth column of the features (do this for both the training and validation sets).\n",
    "\n",
    "---\n",
    "Open `hw1.py` and complete the function `apply_bias_trick`. (5 points)"
   ]
  },
  {
   "cell_type": "code",
   "execution_count": 11,
   "metadata": {},
   "outputs": [
    {
     "data": {
      "text/plain": [
       "((4000, 2), (1000, 2))"
      ]
     },
     "execution_count": 11,
     "metadata": {},
     "output_type": "execute_result"
    }
   ],
   "source": [
    "from hw1 import apply_bias_trick\n",
    "\n",
    "X_train = apply_bias_trick(X_train)\n",
    "X_val = apply_bias_trick(X_val)\n",
    "\n",
    "X_train.shape, X_val.shape"
   ]
  },
  {
   "cell_type": "markdown",
   "metadata": {
    "nbgrader": {
     "grade": false,
     "grade_id": "cell-c7d7fd68c1b24943",
     "locked": true,
     "schema_version": 1,
     "solution": false
    }
   },
   "source": [
    "## Part 2: Single Variable Linear Regression (60 Points)\n",
    "Simple linear regression is a linear regression model with a single explanatory varaible and a single target value. \n",
    "\n",
    "$$\n",
    "\\hat{y} = h_\\theta(x) = \\theta^T x = \\theta_0 + \\theta_1 x_1\n",
    "$$\n",
    "\n",
    "## Gradient Descent \n",
    "\n",
    "Our task is to find the best possible linear line that explains all the points in our dataset. We start by guessing initial values for the linear regression parameters $\\theta$ and updating the values using gradient descent. \n",
    "\n",
    "The objective of linear regression is to minimize the cost function $J$:\n",
    "\n",
    "$$\n",
    "J(\\theta) = \\frac{1}{2m} \\sum_{i=1}^{n}(h_\\theta(x^{(i)})-y^{(i)})^2\n",
    "$$\n",
    "\n",
    "where the hypothesis (model) $h_\\theta(x)$ is given by a **linear** model:\n",
    "\n",
    "$$\n",
    "h_\\theta(x) = \\theta^T x = \\theta_0 + \\theta_1 x_1\n",
    "$$\n",
    "\n",
    "$\\theta_j$ are parameters of your model. and by changing those values accordingly you will be able to lower the cost function $J(\\theta)$. One way to accopmlish this is to use gradient descent:\n",
    "\n",
    "$$\n",
    "\\theta_j = \\theta_j - \\alpha \\frac{1}{m} \\sum_{i=1}^m (h_\\theta(x^{(i)})-y^{(i)})x_j^{(i)}\n",
    "$$\n",
    "\n",
    "In linear regresion, we know that with each step of gradient descent, the parameters $\\theta_j$ get closer to the optimal values that will achieve the lowest cost $J(\\theta)$.\n",
    "\n",
    "---\n",
    "\n",
    "Open `hw1.py` and complete the function `compute_cost`. (10 points)"
   ]
  },
  {
   "cell_type": "code",
   "execution_count": 12,
   "metadata": {},
   "outputs": [],
   "source": [
    "from hw1 import compute_cost\n",
    "theta = np.array([-1, 2])\n",
    "J = compute_cost(X_train, y_train, theta)"
   ]
  },
  {
   "cell_type": "code",
   "execution_count": 13,
   "metadata": {},
   "outputs": [
    {
     "data": {
      "text/plain": [
       "0.5110382451954535"
      ]
     },
     "execution_count": 13,
     "metadata": {},
     "output_type": "execute_result"
    }
   ],
   "source": [
    "J"
   ]
  },
  {
   "cell_type": "markdown",
   "metadata": {
    "nbgrader": {
     "grade": false,
     "grade_id": "cell-afdc527b73d275bb",
     "locked": true,
     "schema_version": 1,
     "solution": false
    }
   },
   "source": [
    "Open `hw1.py` and complete the function `gradient_descent`. (30 points)"
   ]
  },
  {
   "cell_type": "code",
   "execution_count": 14,
   "metadata": {},
   "outputs": [],
   "source": [
    "from hw1 import gradient_descent\n",
    "\n",
    "np.random.seed(42)\n",
    "theta = np.random.random(size=2)\n",
    "iterations = 40000\n",
    "alpha = 0.1\n",
    "theta, J_history = gradient_descent(X_train ,y_train, theta, alpha, iterations)"
   ]
  },
  {
   "cell_type": "markdown",
   "metadata": {
    "nbgrader": {
     "grade": false,
     "grade_id": "cell-86125cd57f0fdb89",
     "locked": true,
     "schema_version": 1,
     "solution": false
    }
   },
   "source": [
    "You can evaluate the learning process by monitoring the loss as training progress. In the following graph, we visualize the loss as a function of the iterations. This is possible since we are saving the loss value at every iteration in the `J_history` array. This visualization might help you find problems with your code. Notice that since the network converges quickly, we are using logarithmic scale for the number of iterations. "
   ]
  },
  {
   "cell_type": "code",
   "execution_count": 15,
   "metadata": {
    "nbgrader": {
     "grade": false,
     "grade_id": "cell-a565f1f721f6377f",
     "locked": true,
     "schema_version": 1,
     "solution": false
    }
   },
   "outputs": [
    {
     "data": {
      "image/png": "[encoded data removed]",
      "text/plain": [
       "<Figure size 640x480 with 1 Axes>"
      ]
     },
     "metadata": {},
     "output_type": "display_data"
    }
   ],
   "source": [
    "plt.plot(np.arange(iterations), J_history)\n",
    "plt.xscale('log')\n",
    "plt.xlabel('Iterations')\n",
    "plt.ylabel('Loss')\n",
    "plt.title('Loss as a function of iterations')\n",
    "plt.show()"
   ]
  },
  {
   "cell_type": "markdown",
   "metadata": {
    "nbgrader": {
     "grade": false,
     "grade_id": "cell-3bdd058ecc5db0eb",
     "locked": true,
     "schema_version": 1,
     "solution": false
    }
   },
   "source": [
    "The pseudo inverse solution is a direct approach to finding the best-fitting parameters of the linear model. In your implementation, **do not use `np.linalg.pinv`**. Instead, use only direct matrix multiplication as you saw in class (you can calculate the inverse of a matrix using `np.linalg.inv`).\n",
    "\n",
    "---\n",
    "Open `hw1.py` and complete the function `compute_pinv`. (10 points)"
   ]
  },
  {
   "cell_type": "code",
   "execution_count": 16,
   "metadata": {},
   "outputs": [],
   "source": [
    "from hw1 import compute_pinv"
   ]
  },
  {
   "cell_type": "code",
   "execution_count": 17,
   "metadata": {
    "nbgrader": {
     "grade": false,
     "grade_id": "cell-ee89ac06af3087ae",
     "locked": true,
     "schema_version": 1,
     "solution": false
    }
   },
   "outputs": [],
   "source": [
    "theta_pinv = compute_pinv(X_train ,y_train)\n",
    "J_pinv = compute_cost(X_train, y_train, theta_pinv)"
   ]
  },
  {
   "cell_type": "code",
   "execution_count": 18,
   "metadata": {},
   "outputs": [
    {
     "data": {
      "text/plain": [
       "0.0008040562476843766"
      ]
     },
     "execution_count": 18,
     "metadata": {},
     "output_type": "execute_result"
    }
   ],
   "source": [
    "J_pinv"
   ]
  },
  {
   "cell_type": "markdown",
   "metadata": {},
   "source": [
    "We can add the loss value for the theta calculated using the psuedo-inverse to our graph. This is another sanity check as the loss of our model should converge to the psuedo-inverse loss."
   ]
  },
  {
   "cell_type": "code",
   "execution_count": 19,
   "metadata": {
    "nbgrader": {
     "grade": false,
     "grade_id": "cell-639b53fc41479335",
     "locked": true,
     "schema_version": 1,
     "solution": false
    }
   },
   "outputs": [
    {
     "data": {
      "image/png": "[encoded data removed]",
      "text/plain": [
       "<Figure size 640x480 with 1 Axes>"
      ]
     },
     "metadata": {},
     "output_type": "display_data"
    }
   ],
   "source": [
    "plt.plot(np.arange(len(J_history)), J_history)\n",
    "plt.xscale('log')\n",
    "plt.xlabel('Iterations')\n",
    "plt.ylabel('Loss')\n",
    "plt.title('Loss as a function of iterations')\n",
    "plt.hlines(y = J_pinv, xmin = 0, xmax = len(J_history), color='r',\n",
    "           linewidth = 1, linestyle = 'dashed')\n",
    "plt.show()"
   ]
  },
  {
   "cell_type": "markdown",
   "metadata": {
    "nbgrader": {
     "grade": false,
     "grade_id": "cell-5043aa5363cbe5c9",
     "locked": true,
     "schema_version": 1,
     "solution": false
    }
   },
   "source": [
    "We can use a better approach for the implementation of `gradient_descent`. Instead of performing 40,000 iterations, we wish to stop when the improvement of the loss value is smaller than `1e-8` from one iteration to the next. \n",
    "\n",
    "The learning rate is another factor that determines the performance of our model in terms of speed and accuracy. Complete the function `find_best_alpha`. Make sure you use the training dataset to learn the parameters (thetas) and use those parameters with the validation dataset to compute the cost.\n",
    "\n",
    "**After implementing `efficient_gradient_descent` and finding the best alpha value, use them for the rest of the exercise.**\n",
    "\n",
    "---\n",
    "Open `hw1.py` and complete the function `efficient_gradient_descent` and `find_best_alpha`. (5 points each)"
   ]
  },
  {
   "cell_type": "code",
   "execution_count": 20,
   "metadata": {},
   "outputs": [],
   "source": [
    "from hw1 import efficient_gradient_descent, find_best_alpha"
   ]
  },
  {
   "cell_type": "code",
   "execution_count": 21,
   "metadata": {
    "nbgrader": {
     "grade": false,
     "grade_id": "cell-a8b088fe7a10910a",
     "locked": true,
     "schema_version": 1,
     "solution": false
    }
   },
   "outputs": [],
   "source": [
    "alpha_dict = find_best_alpha(X_train, y_train, X_val, y_val, 40000)"
   ]
  },
  {
   "cell_type": "code",
   "execution_count": 22,
   "metadata": {},
   "outputs": [
    {
     "data": {
      "text/plain": [
       "{1e-05: 0.2257107313106705,\n",
       " 3e-05: 0.04702545562241917,\n",
       " 0.0001: 0.002321695156764119,\n",
       " 0.0003: 0.0021379020190098394,\n",
       " 0.001: 0.0014859919152237877,\n",
       " 0.003: 0.0009048155115195304,\n",
       " 0.01: 0.0007742354492663846,\n",
       " 0.03: 0.0007340770181860868,\n",
       " 0.1: 0.0007182951864265922,\n",
       " 0.3: 0.0007128796822156612,\n",
       " 1: 0.000710437987444597,\n",
       " 2: 0.5010331181595264,\n",
       " 3: 8.001170470238904}"
      ]
     },
     "execution_count": 22,
     "metadata": {},
     "output_type": "execute_result"
    }
   ],
   "source": [
    "alpha_dict"
   ]
  },
  {
   "cell_type": "markdown",
   "metadata": {
    "nbgrader": {
     "grade": false,
     "grade_id": "cell-5bd93130c022d3e1",
     "locked": true,
     "schema_version": 1,
     "solution": false
    }
   },
   "source": [
    "We can now obtain the best learning rate from the dictionary `alpha_dict` in a single line."
   ]
  },
  {
   "cell_type": "code",
   "execution_count": 23,
   "metadata": {
    "nbgrader": {
     "grade": false,
     "grade_id": "cell-4f81cf375ac46b73",
     "locked": false,
     "schema_version": 1,
     "solution": true
    }
   },
   "outputs": [
    {
     "name": "stdout",
     "output_type": "stream",
     "text": [
      "1\n"
     ]
    }
   ],
   "source": [
    "best_alpha = min(alpha_dict, key=alpha_dict.get)\n",
    "print(best_alpha)"
   ]
  },
  {
   "cell_type": "markdown",
   "metadata": {
    "nbgrader": {
     "grade": false,
     "grade_id": "cell-d16367ecb7183996",
     "locked": true,
     "schema_version": 1,
     "solution": false
    }
   },
   "source": [
    "The following code gets the best three alpha values you just calculated and provides a graph with three lines indicating the training loss as a function of iterations. Use it as a test for your implementation. You can change this code as you see fit."
   ]
  },
  {
   "cell_type": "code",
   "execution_count": 24,
   "metadata": {
    "nbgrader": {
     "grade": true,
     "grade_id": "cell-448638e817503ca3",
     "locked": false,
     "points": 0,
     "schema_version": 1,
     "solution": true
    }
   },
   "outputs": [
    {
     "data": {
      "image/png": "[encoded data removed]",
      "text/plain": [
       "<Figure size 640x480 with 1 Axes>"
      ]
     },
     "metadata": {},
     "output_type": "display_data"
    }
   ],
   "source": [
    "top_3_alphas = sorted([(value, key) for key, value in alpha_dict.items()], reverse=False)[:3]\n",
    "top_3_alphas = [x[1] for x in top_3_alphas]\n",
    "\n",
    "histories = []\n",
    "for alpha in top_3_alphas:\n",
    "    params = np.random.random(size=2)\n",
    "    _, J_history = gradient_descent(X_train ,y_train, params, alpha, num_iters=10000)\n",
    "    histories.append(J_history)\n",
    "\n",
    "for i, (alpha, color) in enumerate(zip(top_3_alphas, ['b','g','r'])):\n",
    "    plt.plot(np.arange(10000), histories[i], color, label='alpha='+str(alpha))\n",
    "\n",
    "plt.xscale('log')\n",
    "plt.ylim(0, 0.005)\n",
    "plt.xlabel('Iterations')\n",
    "plt.ylabel('Loss')\n",
    "plt.title('Loss as a function of iterations')\n",
    "plt.legend()\n",
    "plt.show()\n"
   ]
  },
  {
   "cell_type": "markdown",
   "metadata": {
    "nbgrader": {
     "grade": false,
     "grade_id": "cell-b73893d236bff1d5",
     "locked": true,
     "schema_version": 1,
     "solution": false
    }
   },
   "source": [
    "This is yet another check. This function plots the regression lines of your model and the model based on the pseudoinverse calculation. Both models should exhibit the same trend through the data. "
   ]
  },
  {
   "cell_type": "code",
   "execution_count": 25,
   "metadata": {
    "nbgrader": {
     "grade": false,
     "grade_id": "cell-c7ee7d8763464371",
     "locked": true,
     "schema_version": 1,
     "solution": false
    }
   },
   "outputs": [
    {
     "data": {
      "image/png": "[encoded data removed]",
      "text/plain": [
       "<Figure size 700x700 with 1 Axes>"
      ]
     },
     "metadata": {},
     "output_type": "display_data"
    }
   ],
   "source": [
    "plt.figure(figsize=(7, 7))\n",
    "plt.plot(X_train[:,1], y_train, 'ro', ms=1, mec='k')\n",
    "plt.ylabel('Price in USD')\n",
    "plt.xlabel('sq.ft')\n",
    "plt.plot(X_train[:, 1], np.dot(X_train, theta), 'o')\n",
    "plt.plot(X_train[:, 1], np.dot(X_train, theta_pinv), '-')\n",
    "\n",
    "plt.legend(['Training data', 'Linear regression', 'Best theta']);"
   ]
  },
  {
   "cell_type": "markdown",
   "metadata": {
    "nbgrader": {
     "grade": false,
     "grade_id": "cell-e77c602466fab37d",
     "locked": true,
     "schema_version": 1,
     "solution": false
    }
   },
   "source": [
    "## Part 2: Multivariate Linear Regression\n",
    "\n",
    "In most cases, you will deal with datasets that have more than one feature. It can be as little as two features and up to thousands of features. In those cases, we use a multivariate linear regression model. The regression equation is almost the same as the simple linear regression equation:\n",
    "\n",
    "$$\n",
    "\\hat{y} = h_\\theta(\\vec{x}) = \\theta^T \\vec{x} = \\theta_0 + \\theta_1 x_1 + ... + \\theta_n x_n\n",
    "$$\n",
    "\n",
    "\n",
    "If you wrote proper vectorized code, this part should be trivial and work without changes. If this is not the case, you should go back and edit your functions such that they support both multivariate and single variable regression. **Your code should not check the dimensionality of the input before running**."
   ]
  },
  {
   "cell_type": "code",
   "execution_count": 26,
   "metadata": {
    "nbgrader": {
     "grade": false,
     "grade_id": "cell-15626dda8db26550",
     "locked": true,
     "schema_version": 1,
     "solution": false
    }
   },
   "outputs": [
    {
     "data": {
      "text/html": [
       "<div>\n",
       "<style scoped>\n",
       "    .dataframe tbody tr th:only-of-type {\n",
       "        vertical-align: middle;\n",
       "    }\n",
       "\n",
       "    .dataframe tbody tr th {\n",
       "        vertical-align: top;\n",
       "    }\n",
       "\n",
       "    .dataframe thead th {\n",
       "        text-align: right;\n",
       "    }\n",
       "</style>\n",
       "<table border=\"1\" class=\"dataframe\">\n",
       "  <thead>\n",
       "    <tr style=\"text-align: right;\">\n",
       "      <th></th>\n",
       "      <th>id</th>\n",
       "      <th>date</th>\n",
       "      <th>price</th>\n",
       "      <th>bedrooms</th>\n",
       "      <th>bathrooms</th>\n",
       "      <th>sqft_living</th>\n",
       "      <th>sqft_lot</th>\n",
       "      <th>floors</th>\n",
       "      <th>waterfront</th>\n",
       "      <th>view</th>\n",
       "      <th>condition</th>\n",
       "      <th>grade</th>\n",
       "      <th>sqft_above</th>\n",
       "      <th>yr_built</th>\n",
       "      <th>yr_renovated</th>\n",
       "      <th>zipcode</th>\n",
       "      <th>lat</th>\n",
       "      <th>long</th>\n",
       "      <th>sqft_living15</th>\n",
       "      <th>sqft_lot15</th>\n",
       "    </tr>\n",
       "  </thead>\n",
       "  <tbody>\n",
       "    <tr>\n",
       "      <th>0</th>\n",
       "      <td>7129300520</td>\n",
       "      <td>20141013T000000</td>\n",
       "      <td>221900.0</td>\n",
       "      <td>3</td>\n",
       "      <td>1.00</td>\n",
       "      <td>1180</td>\n",
       "      <td>5650</td>\n",
       "      <td>1.0</td>\n",
       "      <td>0</td>\n",
       "      <td>0</td>\n",
       "      <td>3</td>\n",
       "      <td>7</td>\n",
       "      <td>1180</td>\n",
       "      <td>1955</td>\n",
       "      <td>0</td>\n",
       "      <td>98178</td>\n",
       "      <td>47.5112</td>\n",
       "      <td>-122.257</td>\n",
       "      <td>1340</td>\n",
       "      <td>5650</td>\n",
       "    </tr>\n",
       "    <tr>\n",
       "      <th>1</th>\n",
       "      <td>6414100192</td>\n",
       "      <td>20141209T000000</td>\n",
       "      <td>538000.0</td>\n",
       "      <td>3</td>\n",
       "      <td>2.25</td>\n",
       "      <td>2570</td>\n",
       "      <td>7242</td>\n",
       "      <td>2.0</td>\n",
       "      <td>0</td>\n",
       "      <td>0</td>\n",
       "      <td>3</td>\n",
       "      <td>7</td>\n",
       "      <td>2170</td>\n",
       "      <td>1951</td>\n",
       "      <td>1991</td>\n",
       "      <td>98125</td>\n",
       "      <td>47.7210</td>\n",
       "      <td>-122.319</td>\n",
       "      <td>1690</td>\n",
       "      <td>7639</td>\n",
       "    </tr>\n",
       "    <tr>\n",
       "      <th>2</th>\n",
       "      <td>5631500400</td>\n",
       "      <td>20150225T000000</td>\n",
       "      <td>180000.0</td>\n",
       "      <td>2</td>\n",
       "      <td>1.00</td>\n",
       "      <td>770</td>\n",
       "      <td>10000</td>\n",
       "      <td>1.0</td>\n",
       "      <td>0</td>\n",
       "      <td>0</td>\n",
       "      <td>3</td>\n",
       "      <td>6</td>\n",
       "      <td>770</td>\n",
       "      <td>1933</td>\n",
       "      <td>0</td>\n",
       "      <td>98028</td>\n",
       "      <td>47.7379</td>\n",
       "      <td>-122.233</td>\n",
       "      <td>2720</td>\n",
       "      <td>8062</td>\n",
       "    </tr>\n",
       "    <tr>\n",
       "      <th>3</th>\n",
       "      <td>2487200875</td>\n",
       "      <td>20141209T000000</td>\n",
       "      <td>604000.0</td>\n",
       "      <td>4</td>\n",
       "      <td>3.00</td>\n",
       "      <td>1960</td>\n",
       "      <td>5000</td>\n",
       "      <td>1.0</td>\n",
       "      <td>0</td>\n",
       "      <td>0</td>\n",
       "      <td>5</td>\n",
       "      <td>7</td>\n",
       "      <td>1050</td>\n",
       "      <td>1965</td>\n",
       "      <td>0</td>\n",
       "      <td>98136</td>\n",
       "      <td>47.5208</td>\n",
       "      <td>-122.393</td>\n",
       "      <td>1360</td>\n",
       "      <td>5000</td>\n",
       "    </tr>\n",
       "    <tr>\n",
       "      <th>4</th>\n",
       "      <td>1954400510</td>\n",
       "      <td>20150218T000000</td>\n",
       "      <td>510000.0</td>\n",
       "      <td>3</td>\n",
       "      <td>2.00</td>\n",
       "      <td>1680</td>\n",
       "      <td>8080</td>\n",
       "      <td>1.0</td>\n",
       "      <td>0</td>\n",
       "      <td>0</td>\n",
       "      <td>3</td>\n",
       "      <td>8</td>\n",
       "      <td>1680</td>\n",
       "      <td>1987</td>\n",
       "      <td>0</td>\n",
       "      <td>98074</td>\n",
       "      <td>47.6168</td>\n",
       "      <td>-122.045</td>\n",
       "      <td>1800</td>\n",
       "      <td>7503</td>\n",
       "    </tr>\n",
       "  </tbody>\n",
       "</table>\n",
       "</div>"
      ],
      "text/plain": [
       "           id             date     price  bedrooms  bathrooms  sqft_living  \\\n",
       "0  7129300520  20141013T000000  221900.0         3       1.00         1180   \n",
       "1  6414100192  20141209T000000  538000.0         3       2.25         2570   \n",
       "2  5631500400  20150225T000000  180000.0         2       1.00          770   \n",
       "3  2487200875  20141209T000000  604000.0         4       3.00         1960   \n",
       "4  1954400510  20150218T000000  510000.0         3       2.00         1680   \n",
       "\n",
       "   sqft_lot  floors  waterfront  view  condition  grade  sqft_above  yr_built  \\\n",
       "0      5650     1.0           0     0          3      7        1180      1955   \n",
       "1      7242     2.0           0     0          3      7        2170      1951   \n",
       "2     10000     1.0           0     0          3      6         770      1933   \n",
       "3      5000     1.0           0     0          5      7        1050      1965   \n",
       "4      8080     1.0           0     0          3      8        1680      1987   \n",
       "\n",
       "   yr_renovated  zipcode      lat     long  sqft_living15  sqft_lot15  \n",
       "0             0    98178  47.5112 -122.257           1340        5650  \n",
       "1          1991    98125  47.7210 -122.319           1690        7639  \n",
       "2             0    98028  47.7379 -122.233           2720        8062  \n",
       "3             0    98136  47.5208 -122.393           1360        5000  \n",
       "4             0    98074  47.6168 -122.045           1800        7503  "
      ]
     },
     "execution_count": 26,
     "metadata": {},
     "output_type": "execute_result"
    }
   ],
   "source": [
    "# Read comma separated data\n",
    "df = pd.read_csv('data.csv')\n",
    "df.head()"
   ]
  },
  {
   "cell_type": "markdown",
   "metadata": {
    "nbgrader": {
     "grade": false,
     "grade_id": "cell-2dc0f4dc3491520c",
     "locked": true,
     "schema_version": 1,
     "solution": false
    }
   },
   "source": [
    "## Preprocessing\n",
    "\n",
    "Like in the single variable case, we need to create a numpy array from the dataframe. Before doing so, we should notice that some of the features are clearly irrelevant so we will go ahead and drop them."
   ]
  },
  {
   "cell_type": "code",
   "execution_count": 27,
   "metadata": {
    "nbgrader": {
     "grade": true,
     "grade_id": "cell-a87b4027bd3bda4b",
     "locked": false,
     "points": 0,
     "schema_version": 1,
     "solution": true
    }
   },
   "outputs": [],
   "source": [
    "X = df.drop(columns=['price', 'id', 'date']).values\n",
    "y = df['price'].values"
   ]
  },
  {
   "cell_type": "markdown",
   "metadata": {
    "nbgrader": {
     "grade": false,
     "grade_id": "cell-1aa12f54513b1efa",
     "locked": true,
     "schema_version": 1,
     "solution": false
    }
   },
   "source": [
    "Use the same `preprocess` function you implemented previously. Notice that proper vectorized implementation should work regardless of the dimensionality of the input. You might want to check that your code in the previous parts still works."
   ]
  },
  {
   "cell_type": "code",
   "execution_count": 28,
   "metadata": {
    "nbgrader": {
     "grade": false,
     "grade_id": "cell-f40a9df530db9399",
     "locked": true,
     "schema_version": 1,
     "solution": false
    }
   },
   "outputs": [],
   "source": [
    "# preprocessing\n",
    "X, y = preprocess(X, y)"
   ]
  },
  {
   "cell_type": "code",
   "execution_count": 29,
   "metadata": {},
   "outputs": [
    {
     "data": {
      "text/plain": [
       "array([[-0.04126667, -0.15735556, -0.09120464, ..., -0.03430859,\n",
       "        -0.12318089, -0.01797222],\n",
       "       [-0.04126667,  0.02782963,  0.0526877 , ..., -0.08601835,\n",
       "        -0.05548263, -0.01338999],\n",
       "       [-0.15237778, -0.15735556, -0.1336477 , ..., -0.01429191,\n",
       "         0.14374368, -0.01241548],\n",
       "       ...,\n",
       "       [-0.04126667, -0.08328148, -0.04979677, ...,  0.00155463,\n",
       "        -0.11157547, -0.00643485],\n",
       "       [-0.04126667, -0.00920741, -0.08602865, ...,  0.15167973,\n",
       "        -0.07869346, -0.0044559 ],\n",
       "       [ 0.18095556,  0.06486667,  0.01438542, ..., -0.11187323,\n",
       "        -0.13091783, -0.02158916]])"
      ]
     },
     "execution_count": 29,
     "metadata": {},
     "output_type": "execute_result"
    }
   ],
   "source": [
    "X"
   ]
  },
  {
   "cell_type": "code",
   "execution_count": 30,
   "metadata": {},
   "outputs": [],
   "source": [
    "# training and validation split \n",
    "np.random.seed(42)\n",
    "indices = np.random.permutation(X.shape[0])\n",
    "idx_train, idx_val = indices[:int(0.8*X.shape[0])], indices[int(0.8*X.shape[0]):]\n",
    "X_train, X_val = X[idx_train,:], X[idx_val,:]\n",
    "y_train, y_val = y[idx_train], y[idx_val]"
   ]
  },
  {
   "cell_type": "markdown",
   "metadata": {},
   "source": [
    "Using 3D visualization, we can still observe trends in the data. Visualizing additional dimensions requires advanced techniques we will learn later in the course."
   ]
  },
  {
   "cell_type": "code",
   "execution_count": 31,
   "metadata": {
    "nbgrader": {
     "grade": false,
     "grade_id": "cell-0c68216a26a9b5af",
     "locked": true,
     "schema_version": 1,
     "solution": false
    }
   },
   "outputs": [
    {
     "data": {
      "image/png": "[encoded data removed]",
      "text/plain": [
       "<Figure size 500x500 with 1 Axes>"
      ]
     },
     "metadata": {},
     "output_type": "display_data"
    }
   ],
   "source": [
    "%matplotlib inline\n",
    "import mpl_toolkits.mplot3d.axes3d as p3\n",
    "fig = plt.figure(figsize=(5,5))\n",
    "ax = p3.Axes3D(fig)\n",
    "xx = X_train[:, 1][:1000]\n",
    "yy = X_train[:, 2][:1000]\n",
    "zz = y_train[:1000]\n",
    "ax.scatter(xx, yy, zz, marker='o')\n",
    "ax.set_xlabel('bathrooms')\n",
    "ax.set_ylabel('sqft_living')\n",
    "ax.set_zlabel('price')\n",
    "fig.add_axes(ax)\n",
    "plt.show()"
   ]
  },
  {
   "cell_type": "markdown",
   "metadata": {
    "nbgrader": {
     "grade": false,
     "grade_id": "cell-70fcd47d69caea00",
     "locked": true,
     "schema_version": 1,
     "solution": false
    }
   },
   "source": [
    "Make sure the functions `apply_bias_trick`, `compute_cost`, `gradient_descent`, `efficient_gradient_descent` and `compute_pinv` work on the multi-dimensional dataset. If you make any changes, make sure your code still works on the single variable regression model. "
   ]
  },
  {
   "cell_type": "code",
   "execution_count": 32,
   "metadata": {
    "nbgrader": {
     "grade": true,
     "grade_id": "cell-2985911f4b7af3e1",
     "locked": false,
     "points": 0,
     "schema_version": 1,
     "solution": true
    }
   },
   "outputs": [
    {
     "data": {
      "text/plain": [
       "((4000, 18), (1000, 18))"
      ]
     },
     "execution_count": 32,
     "metadata": {},
     "output_type": "execute_result"
    }
   ],
   "source": [
    "# bias trick\n",
    "X_train = apply_bias_trick(X_train)\n",
    "X_val = apply_bias_trick(X_val)\n",
    "\n",
    "X_train.shape, X_val.shape"
   ]
  },
  {
   "cell_type": "code",
   "execution_count": 33,
   "metadata": {},
   "outputs": [
    {
     "data": {
      "text/plain": [
       "array([[ 1.        , -0.04126667, -0.15735556, ...,  0.03157965,\n",
       "        -0.06321957, -0.01341072],\n",
       "       [ 1.        , -0.04126667, -0.00920741, ..., -0.11354128,\n",
       "        -0.06515381, -0.01149627],\n",
       "       [ 1.        ,  0.29206667,  0.1019037 , ...,  0.00238866,\n",
       "         0.19596805, -0.00869948],\n",
       "       ...,\n",
       "       [ 1.        , -0.04126667, -0.15735556, ..., -0.05015513,\n",
       "        -0.06128534, -0.00441213],\n",
       "       [ 1.        , -0.04126667,  0.06486667, ..., -0.09102252,\n",
       "         0.03542646, -0.01121291],\n",
       "       [ 1.        ,  0.06984444, -0.04624444, ..., -0.12104754,\n",
       "        -0.02066638, -0.00888608]])"
      ]
     },
     "execution_count": 33,
     "metadata": {},
     "output_type": "execute_result"
    }
   ],
   "source": [
    "X_train"
   ]
  },
  {
   "cell_type": "code",
   "execution_count": 34,
   "metadata": {
    "nbgrader": {
     "grade": false,
     "grade_id": "cell-81ab741781b2f6ec",
     "locked": true,
     "schema_version": 1,
     "solution": false
    }
   },
   "outputs": [],
   "source": [
    "# calculating the cost\n",
    "shape = X_train.shape[1]\n",
    "theta = np.ones(shape)\n",
    "J = compute_cost(X_train, y_train, theta)"
   ]
  },
  {
   "cell_type": "code",
   "execution_count": 35,
   "metadata": {},
   "outputs": [
    {
     "data": {
      "text/plain": [
       "0.946911868099815"
      ]
     },
     "execution_count": 35,
     "metadata": {},
     "output_type": "execute_result"
    }
   ],
   "source": [
    "J"
   ]
  },
  {
   "cell_type": "code",
   "execution_count": 36,
   "metadata": {
    "nbgrader": {
     "grade": false,
     "grade_id": "cell-6f25fb05bd6c648a",
     "locked": true,
     "schema_version": 1,
     "solution": false
    }
   },
   "outputs": [],
   "source": [
    "# running the efficient version of gradient descent\n",
    "np.random.seed(42)\n",
    "shape = X_train.shape[1]\n",
    "theta = np.random.random(shape)\n",
    "iterations = 40000\n",
    "theta, J_history = efficient_gradient_descent(X_train ,y_train, theta, best_alpha, iterations)"
   ]
  },
  {
   "cell_type": "code",
   "execution_count": 37,
   "metadata": {},
   "outputs": [
    {
     "data": {
      "text/plain": [
       "[0.10808884793818725,\n",
       " 0.09197919106523464,\n",
       " 0.07881048473329073,\n",
       " 0.06798996541609864,\n",
       " 0.05905176903379861,\n",
       " 0.05162869805026962,\n",
       " 0.04543042428913364,\n",
       " 0.04022663824270674,\n",
       " 0.03583400344166313,\n",
       " 0.03210604054678933,\n",
       " 0.028925269501882206,\n",
       " 0.026197094043382805,\n",
       " 0.02384503232521292,\n",
       " 0.021806988965871545,\n",
       " 0.02003233401593871,\n",
       " 0.018479608189543185,\n",
       " 0.017114715034655233,\n",
       " 0.015909492464123928,\n",
       " 0.01484058047304592,\n",
       " 0.013888520642641901,\n",
       " 0.01303703748819572,\n",
       " 0.012272462852993514,\n",
       " 0.011583273150571638,\n",
       " 0.010959715903031629,\n",
       " 0.010393507165186734,\n",
       " 0.009877585409052944,\n",
       " 0.009405910536282782,\n",
       " 0.008973299091454414,\n",
       " 0.008575288623302488,\n",
       " 0.00820802560442695,\n",
       " 0.007868172465396556,\n",
       " 0.007552830197833458,\n",
       " 0.007259473688041078,\n",
       " 0.006985897500483368,\n",
       " 0.006730170271758524,\n",
       " 0.006490596226032739,\n",
       " 0.0062656826018962775,\n",
       " 0.006054112003559947,\n",
       " 0.0058547188681134215,\n",
       " 0.005666469384483597,\n",
       " 0.005488444315997857,\n",
       " 0.0053198242727390205,\n",
       " 0.005159877056621749,\n",
       " 0.0050079467648225864,\n",
       " 0.004863444388618149,\n",
       " 0.004725839687012839,\n",
       " 0.004594654149503301,\n",
       " 0.004469454891313177,\n",
       " 0.004349849348542496,\n",
       " 0.004235480660796849,\n",
       " 0.0041260236457047765,\n",
       " 0.0040211812838735605,\n",
       " 0.0039206816447402495,\n",
       " 0.0038242751938264135,\n",
       " 0.0037317324304118314,\n",
       " 0.0036428418118585274,\n",
       " 0.0035574079269515037,\n",
       " 0.0034752498858488102,\n",
       " 0.0033961998986945198,\n",
       " 0.0033201020187625272,\n",
       " 0.003246811029266104,\n",
       " 0.0031761914557707246,\n",
       " 0.0031081166885554047,\n",
       " 0.0030424682013390774,\n",
       " 0.0029791348545727915,\n",
       " 0.0029180122730373083,\n",
       " 0.002859002288814393,\n",
       " 0.0028020124418485877,\n",
       " 0.002746955531310147,\n",
       " 0.002693749211830621,\n",
       " 0.002642315629428985,\n",
       " 0.0025925810925939955,\n",
       " 0.0025444757745510947,\n",
       " 0.0024979334432314424,\n",
       " 0.0024528912158863596,\n",
       " 0.0024092893356612716,\n",
       " 0.0023670709677664796,\n",
       " 0.0023261820131641195,\n",
       " 0.00228657093793693,\n",
       " 0.0022481886167197308,\n",
       " 0.0022109881887627946,\n",
       " 0.002174924925361173,\n",
       " 0.0021399561075285253,\n",
       " 0.002106040912920738,\n",
       " 0.002073140311125873,\n",
       " 0.0020412169665347964,\n",
       " 0.0020102351480928344,\n",
       " 0.0019801606453085357,\n",
       " 0.0019509606899624,\n",
       " 0.0019226038830172868,\n",
       " 0.001895060126284278,\n",
       " 0.0018683005584437216,\n",
       " 0.0018422974950619208,\n",
       " 0.0018170243722799826,\n",
       " 0.0017924556938833502,\n",
       " 0.001768566981488958,\n",
       " 0.0017453347276122208,\n",
       " 0.0017227363513985657,\n",
       " 0.0017007501568242708,\n",
       " 0.00167935529318927,\n",
       " 0.0016585317177405785,\n",
       " 0.0016382601602793162,\n",
       " 0.0016185220896171026,\n",
       " 0.0015992996817591459,\n",
       " 0.0015805757897016362,\n",
       " 0.0015623339147404001,\n",
       " 0.0015445581791961149,\n",
       " 0.0015272333004689672,\n",
       " 0.0015103445663424574,\n",
       " 0.0014938778114622362,\n",
       " 0.001477819394921463,\n",
       " 0.0014621561788892515,\n",
       " 0.0014468755082233957,\n",
       " 0.0014319651910127686,\n",
       " 0.0014174134799986172,\n",
       " 0.0014032090548274816,\n",
       " 0.0013893410050916646,\n",
       " 0.0013757988141160939,\n",
       " 0.0013625723434531277,\n",
       " 0.0013496518180492966,\n",
       " 0.00133702781205026,\n",
       " 0.0013246912352123334,\n",
       " 0.0013126333198908804,\n",
       " 0.001300845608577622,\n",
       " 0.0012893199419605889,\n",
       " 0.0012780484474819403,\n",
       " 0.0012670235283703053,\n",
       " 0.0012562378531256009,\n",
       " 0.0012456843454355117,\n",
       " 0.0012353561745039455,\n",
       " 0.0012252467457728392,\n",
       " 0.001215349692019681,\n",
       " 0.0012056588648140338,\n",
       " 0.0011961683263172099,\n",
       " 0.0011868723414100587,\n",
       " 0.0011777653701345822,\n",
       " 0.0011688420604358118,\n",
       " 0.0011600972411910375,\n",
       " 0.0011515259155141261,\n",
       " 0.0011431232543232391,\n",
       " 0.0011348845901608287,\n",
       " 0.001126805411255318,\n",
       " 0.0011188813558143593,\n",
       " 0.001111108206540038,\n",
       " 0.0011034818853568387,\n",
       " 0.0010959984483435922,\n",
       " 0.001088654080861043,\n",
       " 0.0010814450928670301,\n",
       " 0.0010743679144116446,\n",
       " 0.0010674190913050649,\n",
       " 0.001060595280951078,\n",
       " 0.0010538932483396247,\n",
       " 0.0010473098621919693,\n",
       " 0.0010408420912523925,\n",
       " 0.0010344870007205549,\n",
       " 0.0010282417488189299,\n",
       " 0.0010221035834899503,\n",
       " 0.0010160698392177312,\n",
       " 0.0010101379339694468,\n",
       " 0.0010043053662516593,\n",
       " 0.0009985697122770654,\n",
       " 0.000992928623237351,\n",
       " 0.0009873798226779896,\n",
       " 0.0009819211039710115,\n",
       " 0.0009765503278819251,\n",
       " 0.0009712654202271323,\n",
       " 0.0009660643696183252,\n",
       " 0.0009609452252904956,\n",
       " 0.000955906095010327,\n",
       " 0.0009509451430618644,\n",
       " 0.0009460605883064873,\n",
       " 0.0009412507023143273,\n",
       " 0.0009365138075643878,\n",
       " 0.0009318482757107324,\n",
       " 0.0009272525259122111,\n",
       " 0.0009227250232232985,\n",
       " 0.0009182642770437131,\n",
       " 0.0009138688396245716,\n",
       " 0.0009095373046289364,\n",
       " 0.0009052683057446813,\n",
       " 0.0009010605153476934,\n",
       " 0.0008969126432135057,\n",
       " 0.000892823435275524,\n",
       " 0.0008887916724280898,\n",
       " 0.0008848161693726848,\n",
       " 0.0008808957735056532,\n",
       " 0.000877029363845876,\n",
       " 0.0008732158500008979,\n",
       " 0.0008694541711700593,\n",
       " 0.0008657432951832492,\n",
       " 0.0008620822175739409,\n",
       " 0.0008584699606852311,\n",
       " 0.0008549055728076467,\n",
       " 0.0008513881273475337,\n",
       " 0.0008479167220248897,\n",
       " 0.0008444904780995429,\n",
       " 0.0008411085396246195,\n",
       " 0.0008377700727262957,\n",
       " 0.000834474264908846,\n",
       " 0.0008312203243840622,\n",
       " 0.0008280074794241319,\n",
       " 0.0008248349777371178,\n",
       " 0.0008217020858641943,\n",
       " 0.000818608088597847,\n",
       " 0.0008155522884202571,\n",
       " 0.0008125340049611328,\n",
       " 0.0008095525744742689,\n",
       " 0.0008066073493321515,\n",
       " 0.0008036976975379418,\n",
       " 0.0008008230022542092,\n",
       " 0.000797982661347793,\n",
       " 0.000795176086950213,\n",
       " 0.0007924027050330547,\n",
       " 0.0007896619549977879,\n",
       " 0.0007869532892794924,\n",
       " 0.000784276172963986,\n",
       " 0.0007816300834178692,\n",
       " 0.0007790145099310177,\n",
       " 0.000776428953371073,\n",
       " 0.0007738729258494994,\n",
       " 0.0007713459503987873,\n",
       " 0.000768847560660403,\n",
       " 0.0007663773005830998,\n",
       " 0.0007639347241312154,\n",
       " 0.0007615193950026003,\n",
       " 0.0007591308863558312,\n",
       " 0.0007567687805463769,\n",
       " 0.0007544326688713992,\n",
       " 0.0007521221513228791,\n",
       " 0.0007498368363487724,\n",
       " 0.0007475763406219121,\n",
       " 0.000745340288816379,\n",
       " 0.0007431283133910779,\n",
       " 0.0007409400543802677,\n",
       " 0.0007387751591907937,\n",
       " 0.0007366332824057924,\n",
       " 0.0007345140855946376,\n",
       " 0.0007324172371289094,\n",
       " 0.0007303424120041769,\n",
       " 0.0007282892916673888,\n",
       " 0.0007262575638496789,\n",
       " 0.0007242469224043944,\n",
       " 0.0007222570671501695,\n",
       " 0.0007202877037188675,\n",
       " 0.000718338543408221,\n",
       " 0.0007164093030390113,\n",
       " 0.0007144997048166281,\n",
       " 0.0007126094761968597,\n",
       " 0.0007107383497557692,\n",
       " 0.0007088860630635139,\n",
       " 0.000707052358561977,\n",
       " 0.0007052369834460792,\n",
       " 0.0007034396895486452,\n",
       " 0.0007016602332287049,\n",
       " 0.000699898375263112,\n",
       " 0.000698153880741371,\n",
       " 0.0006964265189635592,\n",
       " 0.0006947160633412453,\n",
       " 0.0006930222913012991,\n",
       " 0.0006913449841925002,\n",
       " 0.0006896839271948479,\n",
       " 0.0006880389092314855,\n",
       " 0.0006864097228831527,\n",
       " 0.0006847961643050775,\n",
       " 0.0006831980331462335,\n",
       " 0.0006816151324708808,\n",
       " 0.0006800472686823162,\n",
       " 0.0006784942514487613,\n",
       " 0.0006769558936313171,\n",
       " 0.0006754320112139193,\n",
       " 0.0006739224232352304,\n",
       " 0.0006724269517224008,\n",
       " 0.0006709454216266465,\n",
       " 0.0006694776607605774,\n",
       " 0.0006680234997372251,\n",
       " 0.0006665827719107148,\n",
       " 0.0006651553133185257,\n",
       " 0.0006637409626252955,\n",
       " 0.0006623395610681143,\n",
       " 0.0006609509524032646,\n",
       " 0.0006595749828543606,\n",
       " 0.000658211501061843,\n",
       " 0.0006568603580337871,\n",
       " 0.0006555214070979835,\n",
       " 0.0006541945038552523,\n",
       " 0.0006528795061339517,\n",
       " 0.0006515762739456444,\n",
       " 0.0006502846694418889,\n",
       " 0.0006490045568721161,\n",
       " 0.0006477358025425642,\n",
       " 0.0006464782747762348,\n",
       " 0.0006452318438738431,\n",
       " 0.0006439963820757293,\n",
       " 0.0006427717635247048,\n",
       " 0.0006415578642298045,\n",
       " 0.0006403545620309171,\n",
       " 0.0006391617365642692,\n",
       " 0.0006379792692287372,\n",
       " 0.0006368070431529628,\n",
       " 0.000635644943163249,\n",
       " 0.0006344928557522118,\n",
       " 0.0006333506690481704,\n",
       " 0.0006322182727852487,\n",
       " 0.0006310955582741731,\n",
       " 0.0006299824183737412,\n",
       " 0.0006288787474629491,\n",
       " 0.0006277844414137512,\n",
       " 0.0006266993975644413,\n",
       " 0.0006256235146936314,\n",
       " 0.0006245566929948186,\n",
       " 0.000623498834051516,\n",
       " 0.000622449840812938,\n",
       " 0.0006214096175702215,\n",
       " 0.0006203780699331709,\n",
       " 0.0006193551048075079,\n",
       " 0.0006183406303726188,\n",
       " 0.0006173345560597809,\n",
       " 0.0006163367925308563,\n",
       " 0.0006153472516574425,\n",
       " 0.0006143658465004648,\n",
       " 0.0006133924912902012,\n",
       " 0.000612427101406726,\n",
       " 0.0006114695933607645,\n",
       " 0.0006105198847749438,\n",
       " 0.0006095778943654333,\n",
       " 0.0006086435419239622,\n",
       " 0.000607716748300206,\n",
       " 0.0006067974353845308,\n",
       " 0.0006058855260910887,\n",
       " 0.0006049809443412526,\n",
       " 0.0006040836150473843,\n",
       " 0.0006031934640969262,\n",
       " 0.0006023104183368087,\n",
       " 0.0006014344055581659,\n",
       " 0.0006005653544813516,\n",
       " 0.0005997031947412479,\n",
       " 0.0005988478568728609,\n",
       " 0.0005979992722971943,\n",
       " 0.0005971573733073952,\n",
       " 0.0005963220930551665,\n",
       " 0.0005954933655374377,\n",
       " 0.0005946711255832893,\n",
       " 0.0005938553088411242,\n",
       " 0.0005930458517660811,\n",
       " 0.0005922426916076822,\n",
       " 0.0005914457663977129,\n",
       " 0.0005906550149383247,\n",
       " 0.0005898703767903597,\n",
       " 0.0005890917922618876,\n",
       " 0.0005883192023969551,\n",
       " 0.0005875525489645371,\n",
       " 0.0005867917744476915,\n",
       " 0.0005860368220329086,\n",
       " 0.0005852876355996509,\n",
       " 0.0005845441597100821,\n",
       " 0.000583806339598979,\n",
       " 0.000583074121163821,\n",
       " 0.0005823474509550566,\n",
       " 0.0005816262761665405,\n",
       " 0.0005809105446261387,\n",
       " 0.0005802002047864969,\n",
       " 0.0005794952057159712,\n",
       " 0.0005787954970897143,\n",
       " 0.0005781010291809167,\n",
       " 0.0005774117528521974,\n",
       " 0.0005767276195471436,\n",
       " 0.000576048581281993,\n",
       " 0.0005753745906374591,\n",
       " 0.0005747056007506942,\n",
       " 0.0005740415653073877,\n",
       " 0.0005733824385339977,\n",
       " 0.0005727281751901132,\n",
       " 0.000572078730560943,\n",
       " 0.0005714340604499292,\n",
       " 0.0005707941211714853,\n",
       " 0.0005701588695438512,\n",
       " 0.0005695282628820684,\n",
       " 0.000568902258991069,\n",
       " 0.0005682808161588785,\n",
       " 0.0005676638931499291,\n",
       " 0.0005670514491984813,\n",
       " 0.0005664434440021528,\n",
       " 0.0005658398377155512,\n",
       " 0.0005652405909440094,\n",
       " 0.0005646456647374218,\n",
       " 0.0005640550205841793,\n",
       " 0.000563468620405199,\n",
       " 0.0005628864265480522,\n",
       " 0.0005623084017811824,\n",
       " 0.0005617345092882163,\n",
       " 0.0005611647126623646,\n",
       " 0.0005605989759009099,\n",
       " 0.0005600372633997808,\n",
       " 0.0005594795399482124,\n",
       " 0.0005589257707234884,\n",
       " 0.0005583759212857657,\n",
       " 0.0005578299575729788,\n",
       " 0.0005572878458958231,\n",
       " 0.0005567495529328161,\n",
       " 0.0005562150457254334,\n",
       " 0.0005556842916733207,\n",
       " 0.0005551572585295777,\n",
       " 0.0005546339143961145,\n",
       " 0.0005541142277190797,\n",
       " 0.0005535981672843559,\n",
       " 0.0005530857022131248,\n",
       " 0.0005525768019574997,\n",
       " 0.0005520714362962226,\n",
       " 0.0005515695753304261,\n",
       " 0.0005510711894794609,\n",
       " 0.0005505762494767823,\n",
       " 0.0005500847263659017,\n",
       " 0.0005495965914963965,\n",
       " 0.0005491118165199785,\n",
       " 0.0005486303733866233,\n",
       " 0.000548152234340755,\n",
       " 0.000547677371917487,\n",
       " 0.0005472057589389198,\n",
       " 0.0005467373685104924,\n",
       " 0.0005462721740173866,\n",
       " 0.0005458101491209854,\n",
       " 0.000545351267755382,\n",
       " 0.0005448955041239401,\n",
       " 0.0005444428326959045,\n",
       " 0.0005439932282030606,\n",
       " 0.0005435466656364428,\n",
       " 0.0005431031202430896,\n",
       " 0.0005426625675228471,\n",
       " 0.0005422249832252166,\n",
       " 0.0005417903433462498,\n",
       " 0.0005413586241254866,\n",
       " 0.0005409298020429378,\n",
       " 0.0005405038538161111,\n",
       " 0.000540080756397079,\n",
       " 0.0005396604869695888,\n",
       " 0.0005392430229462137,\n",
       " 0.0005388283419655444,\n",
       " 0.0005384164218894204,\n",
       " 0.0005380072408002008,\n",
       " 0.0005376007769980728,\n",
       " 0.0005371970089983998,\n",
       " 0.0005367959155291047,\n",
       " 0.000536397475528092,\n",
       " 0.0005360016681407041,\n",
       " 0.0005356084727172159,\n",
       " 0.0005352178688103608,\n",
       " 0.0005348298361728954,\n",
       " 0.0005344443547551937,\n",
       " 0.0005340614047028793,\n",
       " 0.0005336809663544866,\n",
       " 0.0005333030202391569,\n",
       " 0.0005329275470743653,\n",
       " 0.0005325545277636795,\n",
       " 0.0005321839433945489,\n",
       " 0.0005318157752361249,\n",
       " 0.0005314500047371114,\n",
       " 0.0005310866135236428,\n",
       " 0.0005307255833971937,\n",
       " 0.000530366896332517,\n",
       " 0.0005300105344756065,\n",
       " 0.0005296564801416928,\n",
       " 0.0005293047158132626,\n",
       " 0.0005289552241381057,\n",
       " 0.0005286079879273903,\n",
       " 0.0005282629901537621,\n",
       " 0.0005279202139494701,\n",
       " 0.0005275796426045177,\n",
       " 0.0005272412595648399,\n",
       " 0.0005269050484305026,\n",
       " 0.0005265709929539281,\n",
       " 0.0005262390770381439,\n",
       " 0.0005259092847350555,\n",
       " 0.0005255816002437399,\n",
       " 0.0005252560079087665,\n",
       " 0.0005249324922185356,\n",
       " 0.0005246110378036424,\n",
       " 0.0005242916294352612,\n",
       " 0.0005239742520235515,\n",
       " 0.0005236588906160856,\n",
       " 0.0005233455303962961,\n",
       " 0.0005230341566819451,\n",
       " 0.0005227247549236128,\n",
       " 0.0005224173107032068,\n",
       " 0.0005221118097324901,\n",
       " 0.000521808237851629,\n",
       " 0.0005215065810277603,\n",
       " 0.0005212068253535773,\n",
       " 0.0005209089570459335,\n",
       " 0.0005206129624444653,\n",
       " 0.000520318828010233,\n",
       " 0.0005200265403243786,\n",
       " 0.0005197360860868016,\n",
       " 0.0005194474521148521,\n",
       " 0.0005191606253420409,\n",
       " 0.0005188755928167661,\n",
       " 0.0005185923417010556,\n",
       " 0.0005183108592693279,\n",
       " 0.0005180311329071662,\n",
       " 0.0005177531501101104,\n",
       " 0.0005174768984824633,\n",
       " 0.0005172023657361135,\n",
       " 0.000516929539689372,\n",
       " 0.0005166584082658247,\n",
       " 0.0005163889594931985,\n",
       " 0.0005161211815022435,\n",
       " 0.0005158550625256284,\n",
       " 0.0005155905908968499,\n",
       " 0.0005153277550491557,\n",
       " 0.0005150665435144832,\n",
       " 0.0005148069449224081,\n",
       " 0.0005145489479991105,\n",
       " 0.0005142925415663502,\n",
       " 0.0005140377145404577,\n",
       " 0.0005137844559313363,\n",
       " 0.0005135327548414777,\n",
       " 0.0005132826004649896,\n",
       " 0.0005130339820866354,\n",
       " 0.0005127868890808859,\n",
       " 0.0005125413109109836,\n",
       " 0.0005122972371280172,\n",
       " 0.0005120546573700093,\n",
       " 0.0005118135613610147,\n",
       " 0.0005115739389102292,\n",
       " 0.0005113357799111109,\n",
       " 0.0005110990743405113,\n",
       " 0.0005108638122578179,\n",
       " 0.0005106299838041066,\n",
       " 0.000510397579201305,\n",
       " 0.0005101665887513664,\n",
       " 0.0005099370028354532,\n",
       " 0.000509708811913131,\n",
       " 0.0005094820065215711,\n",
       " 0.0005092565772747657,\n",
       " 0.0005090325148627501,\n",
       " 0.0005088098100508343,\n",
       " 0.0005085884536788464,\n",
       " 0.0005083684366603828,\n",
       " 0.0005081497499820684,\n",
       " 0.0005079323847028257,\n",
       " 0.0005077163319531534,\n",
       " 0.0005075015829344122,\n",
       " 0.0005072881289181207,\n",
       " 0.0005070759612452593,\n",
       " 0.0005068650713255817,\n",
       " 0.0005066554506369364,\n",
       " 0.0005064470907245941,\n",
       " 0.0005062399832005853,\n",
       " 0.0005060341197430441,\n",
       " 0.0005058294920955614,\n",
       " 0.0005056260920665439,\n",
       " 0.000505423911528583,\n",
       " 0.0005052229424178292,\n",
       " 0.0005050231767333745,\n",
       " 0.0005048246065366432,\n",
       " 0.0005046272239507883,\n",
       " 0.000504431021160096,\n",
       " 0.0005042359904093965,\n",
       " 0.0005040421240034832,\n",
       " 0.0005038494143065361,\n",
       " 0.0005036578537415554,\n",
       " 0.0005034674347897982,\n",
       " 0.0005032781499902239,\n",
       " 0.0005030899919389462,\n",
       " 0.0005029029532886901,\n",
       " 0.0005027170267482566,\n",
       " 0.0005025322050819921,\n",
       " 0.0005023484811092656,\n",
       " 0.0005021658477039508,\n",
       " 0.0005019842977939147,\n",
       " 0.0005018038243605114,\n",
       " 0.0005016244204380831,\n",
       " 0.0005014460791134651,\n",
       " 0.0005012687935254975,\n",
       " 0.0005010925568645427,\n",
       " 0.0005009173623720074,\n",
       " 0.0005007432033398712,\n",
       " 0.0005005700731102195,\n",
       " 0.0005003979650747828,\n",
       " 0.0005002268726744798,\n",
       " 0.000500056789398967,\n",
       " 0.0004998877087861929,\n",
       " 0.0004997196244219574,\n",
       " 0.0004995525299394748,\n",
       " 0.0004993864190189443,\n",
       " 0.000499221285387123,\n",
       " 0.0004990571228169048,\n",
       " 0.0004988939251269037,\n",
       " 0.0004987316861810414,\n",
       " 0.0004985703998881409,\n",
       " 0.0004984100602015225,\n",
       " 0.0004982506611186054,\n",
       " 0.0004980921966805149,\n",
       " 0.000497934660971691,\n",
       " 0.0004977780481195044,\n",
       " 0.0004976223522938743,\n",
       " 0.0004974675677068923,\n",
       " 0.0004973136886124488,\n",
       " 0.0004971607093058648,\n",
       " 0.0004970086241235268,\n",
       " 0.0004968574274425263,\n",
       " 0.0004967071136803028,\n",
       " 0.0004965576772942904,\n",
       " 0.00049640911278157,\n",
       " 0.0004962614146785223,\n",
       " 0.0004961145775604871,\n",
       " 0.0004959685960414252,\n",
       " 0.0004958234647735837,\n",
       " 0.000495679178447166,\n",
       " 0.0004955357317900036,\n",
       " 0.0004953931195672334,\n",
       " 0.0004952513365809767,\n",
       " 0.0004951103776700225,\n",
       " 0.0004949702377095146,\n",
       " 0.0004948309116106405,\n",
       " 0.0004946923943203253,\n",
       " 0.0004945546808209277,\n",
       " 0.0004944177661299396,\n",
       " 0.000494281645299689,\n",
       " 0.0004941463134170456,\n",
       " 0.00049401176560313,\n",
       " 0.0004938779970130253,\n",
       " 0.0004937450028354927,\n",
       " 0.0004936127782926887,\n",
       " 0.0004934813186398867,\n",
       " 0.0004933506191652002,\n",
       " 0.0004932206751893096,\n",
       " 0.0004930914820651922,\n",
       " 0.0004929630351778535,\n",
       " 0.0004928353299440629,\n",
       " 0.0004927083618120914,\n",
       " 0.0004925821262614516,\n",
       " 0.0004924566188026411,\n",
       " 0.0004923318349768883,\n",
       " 0.0004922077703559005,\n",
       " 0.0004920844205416147,\n",
       " 0.0004919617811659508,\n",
       " 0.000491839847890568,\n",
       " 0.0004917186164066228,\n",
       " 0.0004915980824345301,\n",
       " 0.0004914782417237257,\n",
       " 0.0004913590900524323,\n",
       " 0.0004912406232274279,\n",
       " 0.000491122837083815,\n",
       " 0.0004910057274847936,\n",
       " 0.0004908892903214367,\n",
       " 0.000490773521512466,\n",
       " 0.0004906584170040323,\n",
       " 0.0004905439727694958,\n",
       " 0.0004904301848092113,\n",
       " 0.0004903170491503121,\n",
       " 0.000490204561846499,\n",
       " 0.00049009271897783,\n",
       " 0.0004899815166505121,\n",
       " 0.0004898709509966953,\n",
       " 0.0004897610181742686,\n",
       " 0.0004896517143666584,\n",
       " 0.0004895430357826278,\n",
       " 0.000489434978656079,\n",
       " 0.0004893275392458569,\n",
       " 0.0004892207138355549,\n",
       " 0.0004891144987333223,\n",
       " 0.0004890088902716744,\n",
       " 0.0004889038848073026,\n",
       " 0.0004887994787208885,\n",
       " 0.0004886956684169182,\n",
       " 0.0004885924503234991,\n",
       " 0.0004884898208921784,\n",
       " 0.0004883877765977627,\n",
       " 0.0004882863139381407,\n",
       " 0.0004881854294341055,\n",
       " 0.00048808511962918067,\n",
       " 0.00048798538108944665,\n",
       " 0.00048788621040336946,\n",
       " 0.0004877876041816299,\n",
       " 0.00048768955905695657,\n",
       " 0.0004875920716839575,\n",
       " 0.00048749513873895626,\n",
       " 0.00048739875691982716,\n",
       " 0.00048730292294583364,\n",
       " 0.0004872076335574677,\n",
       " 0.0004871128855162901,\n",
       " 0.00048701867560477306,\n",
       " 0.00048692500062614386,\n",
       " 0.0004868318574042296,\n",
       " 0.0004867392427833048,\n",
       " 0.00048664715362793794,\n",
       " 0.00048655558682284195,\n",
       " 0.00048646453927272444,\n",
       " 0.00048637400790213964,\n",
       " 0.00048628398965534217,\n",
       " 0.00048619448149614164,\n",
       " 0.0004861054804077585,\n",
       " 0.0004860169833926818,\n",
       " 0.00048592898747252736,\n",
       " 0.000485841489687898,\n",
       " 0.0004857544870982445,\n",
       " 0.00048566797678172805,\n",
       " 0.0004855819558350841,\n",
       " 0.00048549642137348686,\n",
       " 0.0004854113705304153,\n",
       " 0.00048532680045752075,\n",
       " 0.0004852427083244949,\n",
       " 0.0004851590913189396,\n",
       " 0.00048507594664623743,\n",
       " 0.00048499327152942375,\n",
       " 0.00048491106320905906,\n",
       " 0.00048482931894310423,\n",
       " 0.00048474803600679435,\n",
       " 0.0004846672116925157,\n",
       " 0.0004845868433096833,\n",
       " 0.0004845069281846184,\n",
       " 0.00048442746366042933,\n",
       " 0.00048434844709689044,\n",
       " 0.0004842698758703248,\n",
       " 0.00048419174737348615,\n",
       " 0.0004841140590154428,\n",
       " 0.0004840368082214618,\n",
       " 0.0004839599924328949,\n",
       " 0.0004838836091070646,\n",
       " 0.000483807655717152,\n",
       " 0.0004837321297520852,\n",
       " 0.00048365702871642867,\n",
       " 0.00048358235013027333,\n",
       " 0.0004835080915291282,\n",
       " 0.00048343425046381205,\n",
       " 0.00048336082450034707,\n",
       " 0.0004832878112198524,\n",
       " 0.00048321520821843913,\n",
       " 0.00048314301310710633,\n",
       " 0.0004830712235116369,\n",
       " 0.00048299983707249586,\n",
       " 0.0004829288514447284,\n",
       " 0.00048285826429785874,\n",
       " 0.00048278807331579056,\n",
       " 0.00048271827619670747,\n",
       " 0.00048264887065297514,\n",
       " 0.00048257985441104323,\n",
       " 0.00048251122521134895,\n",
       " 0.000482442980808221,\n",
       " 0.0004823751189697845,\n",
       " 0.00048230763747786646,\n",
       " 0.00048224053412790254,\n",
       " 0.0004821738067288436,\n",
       " 0.000482107453103064,\n",
       " 0.00048204147108627025,\n",
       " 0.00048197585852741023,\n",
       " 0.00048191061328858354,\n",
       " 0.00048184573324495185,\n",
       " 0.0004817812162846512,\n",
       " 0.0004817170603087038,\n",
       " 0.0004816532632309305,\n",
       " 0.0004815898229778661,\n",
       " 0.0004815267374886716,\n",
       " 0.00048146400471505075,\n",
       " 0.0004814016226211653,\n",
       " 0.00048133958918355135,\n",
       " 0.0004812779023910363,\n",
       " 0.00048121656024465684,\n",
       " 0.00048115556075757697,\n",
       " 0.00048109490195500715,\n",
       " 0.00048103458187412416,\n",
       " 0.0004809745985639908,\n",
       " 0.0004809149500854774,\n",
       " 0.0004808556345111829,\n",
       " 0.00048079664992535726,\n",
       " 0.0004807379944238237,\n",
       " 0.0004806796661139028,\n",
       " 0.0004806216631143355,\n",
       " 0.0004805639835552084,\n",
       " 0.0004805066255778785,\n",
       " 0.000480449587334899,\n",
       " 0.00048039286698994517,\n",
       " 0.00048033646271774155,\n",
       " 0.0004802803727039894,\n",
       " 0.0004802245951452943,\n",
       " 0.00048016912824909485,\n",
       " 0.0004801139702335915,\n",
       " 0.00048005911932767634,\n",
       " 0.00048000457377086314,\n",
       " 0.0004799503318132179,\n",
       " 0.0004798963917152902,\n",
       " 0.00047984275174804464,\n",
       " 0.000479789410192793,\n",
       " 0.00047973636534112744,\n",
       " 0.00047968361549485306,\n",
       " 0.00047963115896592224,\n",
       " 0.00047957899407636835,\n",
       " 0.00047952711915824083,\n",
       " 0.00047947553255354004,\n",
       " 0.0004794242326141532,\n",
       " 0.00047937321770179047,\n",
       " 0.0004793224861879218,\n",
       " 0.0004792720364537135,\n",
       " 0.00047922186688996633,\n",
       " 0.0004791719758970534,\n",
       " 0.0004791223618848586,\n",
       " 0.0004790730232727155,\n",
       " 0.0004790239584893468,\n",
       " 0.0004789751659728042,\n",
       " 0.00047892664417040887,\n",
       " 0.0004788783915386918,\n",
       " 0.00047883040654333504,\n",
       " 0.0004787826876591136,\n",
       " 0.0004787352333698371,\n",
       " 0.0004786880421682927,\n",
       " 0.00047864111255618695,\n",
       " 0.0004785944430440905,\n",
       " 0.0004785480321513803,\n",
       " 0.00047850187840618486,\n",
       " 0.0004784559803453282,\n",
       " 0.0004784103365142746,\n",
       " 0.00047836494546707437,\n",
       " 0.00047831980576630914,\n",
       " 0.0004782749159830382,\n",
       " 0.00047823027469674474,\n",
       " 0.00047818588049528275,\n",
       " 0.00047814173197482446,\n",
       " 0.00047809782773980755,\n",
       " 0.00047805416640288344,\n",
       " 0.00047801074658486567,\n",
       " 0.0004779675669146783,\n",
       " 0.00047792462602930523,\n",
       " 0.0004778819225737398,\n",
       " 0.000477839455200934,\n",
       " 0.0004777972225717493,\n",
       " 0.0004777552233549065,\n",
       " 0.00047771345622693736,\n",
       " 0.00047767191987213505,\n",
       " 0.0004776306129825062,\n",
       " 0.0004775895342577224,\n",
       " 0.0004775486824050729,\n",
       " 0.0004775080561394163,\n",
       " 0.00047746765418313483,\n",
       " 0.00047742747526608587,\n",
       " 0.000477387518125557,\n",
       " 0.0004773477815062189,\n",
       " 0.0004773082641600799,\n",
       " 0.0004772689648464404,\n",
       " 0.000477229882331848,\n",
       " 0.00047719101539005183,\n",
       " 0.00047715236280195883,\n",
       " 0.00047711392335558924,\n",
       " 0.00047707569584603225,\n",
       " 0.000477037679075403,\n",
       " 0.00047699987185279876,\n",
       " 0.00047696227299425604,\n",
       " 0.00047692488132270784,\n",
       " 0.0004768876956679412,\n",
       " 0.0004768507148665551,\n",
       " 0.00047681393776191817,\n",
       " 0.0004767773632041278,\n",
       " 0.0004767409900499681,\n",
       " 0.0004767048171628695,\n",
       " 0.00047666884341286746,\n",
       " 0.00047663306767656245,\n",
       " 0.00047659748883707937,\n",
       " 0.00047656210578402773,\n",
       " 0.00047652691741346216,\n",
       " 0.00047649192262784294,\n",
       " 0.0004764571203359967,\n",
       " 0.00047642250945307765,\n",
       " 0.0004763880889005292,\n",
       " 0.00047635385760604526,\n",
       " 0.00047631981450353255,\n",
       " 0.0004762859585330721,\n",
       " 0.00047625228864088266,\n",
       " 0.00047621880377928227,\n",
       " 0.0004761855029066523,\n",
       " 0.00047615238498739974,\n",
       " 0.00047611944899192106,\n",
       " 0.00047608669389656566,\n",
       " 0.0004760541186835998,\n",
       " 0.000476021722341171,\n",
       " 0.00047598950386327224,\n",
       " 0.0004759574622497065,\n",
       " 0.0004759255965060513,\n",
       " 0.0004758939056436249,\n",
       " 0.0004758623886794503,\n",
       " 0.0004758310446362216,\n",
       " 0.0004757998725422692,\n",
       " 0.0004757688714315266,\n",
       " 0.000475738040343496,\n",
       " 0.0004757073783232144,\n",
       " 0.00047567688442122134,\n",
       " 0.0004756465576935248,\n",
       " 0.000475616397201569,\n",
       " 0.00047558640201220094,\n",
       " 0.0004755565711976386,\n",
       " 0.0004755269038354386,\n",
       " 0.0004754973990084638,\n",
       " 0.00047546805580485157,\n",
       " 0.0004754388733179824,\n",
       " 0.00047540985064644823,\n",
       " 0.0004753809868940212,\n",
       " 0.0004753522811696228,\n",
       " 0.000475323732587293,\n",
       " 0.00047529534026615963,\n",
       " 0.0004752671033304076,\n",
       " 0.0004752390209092494,\n",
       " 0.00047521109213689427,\n",
       " 0.00047518331615251926,\n",
       " 0.00047515569210023834,\n",
       " 0.00047512821912907427,\n",
       " 0.00047510089639292853,\n",
       " 0.0004750737230505522,\n",
       " 0.0004750466982655178,\n",
       " 0.00047501982120618967,\n",
       " 0.00047499309104569615,\n",
       " 0.0004749665069619007,\n",
       " 0.000474940068137374,\n",
       " 0.0004749137737593663,\n",
       " 0.00047488762301977906,\n",
       " 0.00047486161511513746,\n",
       " 0.0004748357492465632,\n",
       " 0.0004748100246197471,\n",
       " 0.00047478444044492176,\n",
       " 0.0004747589959368351,\n",
       " 0.00047473369031472327,\n",
       " 0.00047470852280228406,\n",
       " 0.0004746834926276507,\n",
       " 0.0004746585990233654,\n",
       " 0.0004746338412263533,\n",
       " 0.0004746092184778969,\n",
       " 0.0004745847300236095,\n",
       " 0.0004745603751134106,\n",
       " 0.00047453615300149967,\n",
       " 0.0004745120629463313,\n",
       " 0.0004744881042105902,\n",
       " 0.0004744642760611654,\n",
       " 0.0004744405777691268,\n",
       " 0.0004744170086096994,\n",
       " 0.0004743935678622395,\n",
       " 0.00047437025481020955,\n",
       " 0.00047434706874115525,\n",
       " 0.00047432400894668024,\n",
       " 0.0004743010747224231,\n",
       " 0.00047427826536803296,\n",
       " 0.0004742555801871466,\n",
       " 0.00047423301848736443,\n",
       " 0.0004742105795802276,\n",
       " 0.00047418826278119454,\n",
       " 0.00047416606740961824,\n",
       " 0.0004741439927887232,\n",
       " 0.00047412203824558297,\n",
       " 0.00047410020311109725,\n",
       " 0.00047407848671996957,\n",
       " 0.0004740568884106852,\n",
       " 0.0004740354075254888,\n",
       " 0.00047401404341036247,\n",
       " 0.00047399279541500373,\n",
       " 0.0004739716628928039,\n",
       " 0.0004739506452008267,\n",
       " 0.0004739297416997865,\n",
       " 0.00047390895175402687,\n",
       " 0.00047388827473149965,\n",
       " 0.0004738677100037436,\n",
       " 0.0004738472569458641,\n",
       " 0.0004738269149365113,\n",
       " 0.00047380668335786027,\n",
       " 0.00047378656159558993,\n",
       " 0.000473766549038863,\n",
       " 0.0004737466450803053,\n",
       " 0.00047372684911598607,\n",
       " 0.0004737071605453974,\n",
       " 0.00047368757877143424,\n",
       " 0.00047366810320037544,\n",
       " 0.00047364873324186286,\n",
       " 0.00047362946830888265,\n",
       " 0.0004736103078177454,\n",
       " 0.000473591251188067,\n",
       " 0.00047357229784274934,\n",
       " 0.00047355344720796124,\n",
       " 0.0004735346987131192,\n",
       " 0.00047351605179086895,\n",
       " 0.0004734975058770667,\n",
       " 0.00047347906041075985,\n",
       " 0.0004734607148341691,\n",
       " 0.00047344246859266995,\n",
       " 0.00047342432113477417,\n",
       " 0.0004734062719121119,\n",
       " 0.00047338832037941315,\n",
       " 0.00047337046599449037,\n",
       " 0.00047335270821822003,\n",
       " 0.00047333504651452527,\n",
       " 0.000473317480350358,\n",
       " 0.0004733000091956818,\n",
       " 0.0004732826325234538,\n",
       " 0.00047326534980960793,\n",
       " 0.00047324816053303734,\n",
       " 0.0004732310641755775,\n",
       " 0.0004732140602219892,\n",
       " 0.00047319714815994136,\n",
       " 0.00047318032747999475,\n",
       " 0.00047316359767558434,\n",
       " 0.00047314695824300396,\n",
       " 0.0004731304086813887,\n",
       " 0.000473113948492699,\n",
       " 0.0004730975771817043,\n",
       " 0.000473081294255967,\n",
       " 0.00047306509922582585,\n",
       " ...]"
      ]
     },
     "execution_count": 37,
     "metadata": {},
     "output_type": "execute_result"
    }
   ],
   "source": [
    "J_history"
   ]
  },
  {
   "cell_type": "code",
   "execution_count": 38,
   "metadata": {
    "nbgrader": {
     "grade": false,
     "grade_id": "cell-827d1de1293be51f",
     "locked": true,
     "schema_version": 1,
     "solution": false
    }
   },
   "outputs": [],
   "source": [
    "# calculating the pseudoinverse\n",
    "theta_pinv = compute_pinv(X_train ,y_train)\n",
    "J_pinv = compute_cost(X_train, y_train, theta_pinv)"
   ]
  },
  {
   "cell_type": "markdown",
   "metadata": {},
   "source": [
    "We can use visualization to make sure the code works well. Notice we use logarithmic scale for the number of iterations, since gradient descent converges after ~500 iterations."
   ]
  },
  {
   "cell_type": "code",
   "execution_count": 39,
   "metadata": {
    "nbgrader": {
     "grade": false,
     "grade_id": "cell-4fa207b72d2445c2",
     "locked": true,
     "schema_version": 1,
     "solution": false
    }
   },
   "outputs": [
    {
     "data": {
      "image/png": "[encoded data removed]",
      "text/plain": [
       "<Figure size 640x480 with 1 Axes>"
      ]
     },
     "metadata": {},
     "output_type": "display_data"
    }
   ],
   "source": [
    "plt.plot(np.arange(len(J_history)), J_history)\n",
    "plt.xscale('log')\n",
    "plt.xlabel('Iterations')\n",
    "plt.ylabel('Loss')\n",
    "plt.title('Loss as a function of iterations - multivariate linear regression')\n",
    "plt.hlines(y = J_pinv, xmin = 0, xmax = len(J_history), color='r',\n",
    "           linewidth = 1, linestyle = 'dashed')\n",
    "plt.show()"
   ]
  },
  {
   "cell_type": "code",
   "execution_count": 40,
   "metadata": {},
   "outputs": [
    {
     "data": {
      "text/plain": [
       "array([-0.04772153, -0.02211451,  0.0659313 , ..., -0.04287328,\n",
       "       -0.03572224, -0.04001   ])"
      ]
     },
     "execution_count": 40,
     "metadata": {},
     "output_type": "execute_result"
    }
   ],
   "source": [
    "y_train"
   ]
  },
  {
   "cell_type": "markdown",
   "metadata": {
    "nbgrader": {
     "grade": false,
     "grade_id": "cell-cad652570cee3629",
     "locked": true,
     "schema_version": 1,
     "solution": false
    }
   },
   "source": [
    "## Part 3: Forward feature selection (15 points)\n",
    "\n",
    "Adding additional features to our regression model makes it more complicated but does not necessarily improves performance. \n",
    "\n",
    "Forward feature selection is a greedy, iterative algorithm used to select the most relevant features for a predictive model. The objective of this algorithm is to improve the model's performance by identifying and using only the most relevant features, potentially reducing overfitting, improving accuracy, and reducing computational cost. \n",
    "\n",
    "Implement forward feature selection using the following guidelines: \n",
    "1. Start with an empty set of selected features.\n",
    "1. For each feature not yet in the selected set, do the following:\n",
    "    1. Add the feature to the selected set temporarily.\n",
    "    1. Train a model using the current set of selected features and evaluate its performance by calculating the cost or error on a validation set.\n",
    "    1. Remove the temporarily added feature from the selected set.\n",
    "1. Choose the feature that resulted in the best model performance and permanently add it to the selected set.\n",
    "1. Repeat steps 2-3 until you have 5 features (not including the bias).\n",
    "\n",
    "---\n",
    "Open `hw1.py` and complete the function `forward_feature_selection`.\n",
    "\n",
    "**Note that you should use the inputs as provided in the next cell and don't forget to use the bias trick inside `forward_feature_selection`**."
   ]
  },
  {
   "cell_type": "code",
   "execution_count": 41,
   "metadata": {},
   "outputs": [],
   "source": [
    "df = pd.read_csv('data.csv')\n",
    "feature_names = df.drop(columns=['price', 'id', 'date']).columns.values\n",
    "X = df.drop(columns=['price', 'id', 'date']).values\n",
    "y = df['price'].values\n",
    "\n",
    "# preprocessing\n",
    "X, y = preprocess(X, y)\n",
    "\n",
    "# training and validation split\n",
    "np.random.seed(42)\n",
    "indices = np.random.permutation(X.shape[0])\n",
    "idx_train, idx_val = indices[:int(0.8*X.shape[0])], indices[int(0.8*X.shape[0]):]\n",
    "X_train, X_val = X[idx_train,:], X[idx_val,:]\n",
    "y_train, y_val = y[idx_train], y[idx_val]"
   ]
  },
  {
   "cell_type": "code",
   "execution_count": 42,
   "metadata": {},
   "outputs": [],
   "source": [
    "from hw1 import forward_feature_selection"
   ]
  },
  {
   "cell_type": "code",
   "execution_count": 43,
   "metadata": {},
   "outputs": [
    {
     "name": "stdout",
     "output_type": "stream",
     "text": [
      "sqft_living\n",
      "lat\n",
      "waterfront\n",
      "grade\n",
      "yr_built\n"
     ]
    }
   ],
   "source": [
    "ffs = forward_feature_selection(X_train, y_train, X_val, y_val, best_alpha, iterations)\n",
    "for feature in ffs:\n",
    "    print(feature_names[feature])"
   ]
  },
  {
   "cell_type": "markdown",
   "metadata": {},
   "source": [
    "## Part 4: Polynomial regression (15 points)\n",
    "\n",
    "Implement a function to create polynomial features up to a degree of 2 for given dataset. The function should take a pandas DataFrame as input and should return a new DataFrame with all possible square features, including the original features. When you create the new dataframe, make sure the feature names also represent the transformation performed. For example: `sqft_lot`, `yr_built^2`, `bedrooms*bathrooms`, ...\n",
    "\n",
    "After you obtain the polynomial dataframe, use forward feature selection and print the 5 best features.\n",
    "\n",
    "Open `hw1.py` and complete the function `create_square_features`."
   ]
  },
  {
   "cell_type": "code",
   "execution_count": 44,
   "metadata": {},
   "outputs": [],
   "source": [
    "from hw1 import create_square_features"
   ]
  },
  {
   "cell_type": "code",
   "execution_count": 45,
   "metadata": {},
   "outputs": [
    {
     "data": {
      "text/plain": [
       "((5000, 170), (5000,))"
      ]
     },
     "execution_count": 45,
     "metadata": {},
     "output_type": "execute_result"
    }
   ],
   "source": [
    "df = pd.read_csv('data.csv')\n",
    "\n",
    "y = df['price'].values\n",
    "df = df.drop(columns=['price', 'id', 'date'])\n",
    "df = df.astype('float64')\n",
    "df_poly = create_square_features(df)\n",
    "X = df_poly.values\n",
    "X.shape, y.shape"
   ]
  },
  {
   "cell_type": "code",
   "execution_count": 46,
   "metadata": {},
   "outputs": [],
   "source": [
    "# preprocessing\n",
    "X, y = preprocess(X, y)"
   ]
  },
  {
   "cell_type": "code",
   "execution_count": 47,
   "metadata": {},
   "outputs": [],
   "source": [
    "# training and validation split\n",
    "np.random.seed(42)\n",
    "indices = np.random.permutation(X.shape[0])\n",
    "idx_train, idx_val = indices[:int(0.8*X.shape[0])], indices[int(0.8*X.shape[0]):]\n",
    "X_train, X_val = X[idx_train,:], X[idx_val,:]\n",
    "y_train, y_val = y[idx_train], y[idx_val]"
   ]
  },
  {
   "cell_type": "code",
   "execution_count": 48,
   "metadata": {},
   "outputs": [
    {
     "data": {
      "text/plain": [
       "((4000, 170), (1000, 170), (4000,), (1000,))"
      ]
     },
     "execution_count": 48,
     "metadata": {},
     "output_type": "execute_result"
    }
   ],
   "source": [
    "X_train.shape, X_val.shape, y_train.shape, y_val.shape"
   ]
  },
  {
   "cell_type": "code",
   "execution_count": 49,
   "metadata": {},
   "outputs": [],
   "source": [
    "feature_names = df_poly.columns.values"
   ]
  },
  {
   "cell_type": "code",
   "execution_count": 50,
   "metadata": {},
   "outputs": [],
   "source": [
    "ffs = forward_feature_selection(X_train, y_train, X_val, y_val, best_alpha, iterations)"
   ]
  },
  {
   "cell_type": "code",
   "execution_count": 51,
   "metadata": {},
   "outputs": [
    {
     "name": "stdout",
     "output_type": "stream",
     "text": [
      "sqft_living*grade\n",
      "lat*long\n",
      "bathrooms*waterfront\n",
      "yr_built*zipcode\n",
      "zipcode\n"
     ]
    }
   ],
   "source": [
    "for feature in ffs:\n",
    "    print(feature_names[feature])"
   ]
  }
 ],
 "metadata": {
  "celltoolbar": "Create Assignment",
  "kernelspec": {
   "display_name": "Python 3",
   "language": "python",
   "name": "python3"
  },
  "language_info": {
   "codemirror_mode": {
    "name": "ipython",
    "version": 3
   },
   "file_extension": ".py",
   "mimetype": "text/x-python",
   "name": "python",
   "nbconvert_exporter": "python",
   "pygments_lexer": "ipython3",
   "version": "3.11.7"
  }
 },
 "nbformat": 4,
 "nbformat_minor": 4
}
